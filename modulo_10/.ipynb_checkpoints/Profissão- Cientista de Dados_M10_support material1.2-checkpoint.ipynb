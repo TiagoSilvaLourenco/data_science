{
 "cells": [
  {
   "cell_type": "markdown",
   "metadata": {},
   "source": [
    "### Análise da estrutura de correlação de várias variáveis"
   ]
  },
  {
   "cell_type": "markdown",
   "metadata": {},
   "source": [
    "Em um modelo de regressão, é importante avaliar a estrutura de correlação entre as variáveis explicativas. Nesse contexto, podemos entender a correlação como um 'compartilhamento de informação'. Por exemplo, se temos duas variáveis explicativas com correlação igual a 1, certamente podemos eliminar uma delas no modelo. Vamos discutir em detalhes a influência de casos mais intermediários em modleos lineares mais adiante. Por hora vamos avaliar métodos de identificar esses padrões. "
   ]
  },
  {
   "cell_type": "markdown",
   "metadata": {},
   "source": [
    "#### Matriz de dispersão\n",
    "\n",
    "Já vimos como fazer esse tipo de gráfico, e que pode ser muito útil. Sua desvantagem é quando temos muitos pontos e muitas variáveis, ele pode não ser tão prático."
   ]
  },
  {
   "cell_type": "code",
   "execution_count": null,
   "metadata": {},
   "outputs": [],
   "source": [
    "import numpy as np\n",
    "import pandas as pd\n",
    "import matplotlib.pyplot as plt\n",
    "import seaborn as sns\n",
    "# Fixing random state for reproducibility\n",
    "np.random.seed(2360873)\n",
    "\n",
    "penguins = sns.load_dataset(\"penguins\")\n"
   ]
  },
  {
   "cell_type": "code",
   "execution_count": null,
   "metadata": {
    "scrolled": false
   },
   "outputs": [],
   "source": [
    "penguins.corr()"
   ]
  },
  {
   "cell_type": "code",
   "execution_count": null,
   "metadata": {},
   "outputs": [],
   "source": [
    "penguins = sns.load_dataset(\"penguins\")\n",
    "\n",
    "sns.pairplot(penguins, hue='species')"
   ]
  },
  {
   "cell_type": "code",
   "execution_count": null,
   "metadata": {
    "scrolled": false
   },
   "outputs": [],
   "source": [
    "cmap = sns.diverging_palette(h_neg=125, h_pos=350, as_cmap=True, sep = 60, center = 'light')\n",
    "\n",
    "sns.clustermap(penguins.corr(), figsize=(10, 10), center = 0, cmap=cmap)"
   ]
  },
  {
   "cell_type": "code",
   "execution_count": null,
   "metadata": {},
   "outputs": [],
   "source": []
  }
 ],
 "metadata": {
  "kernelspec": {
   "display_name": "Python 3 (ipykernel)",
   "language": "python",
   "name": "python3"
  },
  "language_info": {
   "codemirror_mode": {
    "name": "ipython",
    "version": 3
   },
   "file_extension": ".py",
   "mimetype": "text/x-python",
   "name": "python",
   "nbconvert_exporter": "python",
   "pygments_lexer": "ipython3",
   "version": "3.9.13"
  }
 },
 "nbformat": 4,
 "nbformat_minor": 4
}
