{
 "cells": [
  {
   "cell_type": "markdown",
   "metadata": {},
   "source": [
    "# Valores únicos, contadores"
   ]
  },
  {
   "cell_type": "code",
   "execution_count": 3,
   "metadata": {
    "ExecuteTime": {
     "end_time": "2021-05-23T21:32:12.442130Z",
     "start_time": "2021-05-23T21:32:12.038439Z"
    }
   },
   "outputs": [],
   "source": [
    "import pandas as pd"
   ]
  },
  {
   "cell_type": "markdown",
   "metadata": {},
   "source": [
    "## Aprovações do Sistema BNDES por UF\n",
    "link antigo: https://dados.gov.br/dataset/aprovacoes/resource/bbe8210d-e3b1-4db9-94c5-66cfc8ee2a0f\n",
    "\n",
    "link atual: https://dados.gov.br/dataset/aprovacoes/resource/08f7a11c-48e0-4d3e-9a75-d95641657ebf"
   ]
  },
  {
   "cell_type": "code",
   "execution_count": 6,
   "metadata": {
    "ExecuteTime": {
     "end_time": "2021-05-22T13:49:16.224345Z",
     "start_time": "2021-05-22T13:49:15.886498Z"
    },
    "scrolled": true
   },
   "outputs": [
    {
     "data": {
      "text/html": [
       "<div>\n",
       "<style scoped>\n",
       "    .dataframe tbody tr th:only-of-type {\n",
       "        vertical-align: middle;\n",
       "    }\n",
       "\n",
       "    .dataframe tbody tr th {\n",
       "        vertical-align: top;\n",
       "    }\n",
       "\n",
       "    .dataframe thead th {\n",
       "        text-align: right;\n",
       "    }\n",
       "</style>\n",
       "<table border=\"1\" class=\"dataframe\">\n",
       "  <thead>\n",
       "    <tr style=\"text-align: right;\">\n",
       "      <th></th>\n",
       "      <th>ano</th>\n",
       "      <th>mes</th>\n",
       "      <th>acre</th>\n",
       "      <th>amapa</th>\n",
       "      <th>amazonas</th>\n",
       "      <th>para</th>\n",
       "      <th>rondonia</th>\n",
       "      <th>roraima</th>\n",
       "      <th>tocantins</th>\n",
       "      <th>alagoas</th>\n",
       "      <th>...</th>\n",
       "      <th>minas_gerais</th>\n",
       "      <th>rio_de_janeiro</th>\n",
       "      <th>sao_paulo</th>\n",
       "      <th>parana</th>\n",
       "      <th>rio_grande_do_sul</th>\n",
       "      <th>santa_catarina</th>\n",
       "      <th>distrito_federal</th>\n",
       "      <th>goias</th>\n",
       "      <th>mato_grosso</th>\n",
       "      <th>mato_grosso_do_sul</th>\n",
       "    </tr>\n",
       "  </thead>\n",
       "  <tbody>\n",
       "    <tr>\n",
       "      <th>0</th>\n",
       "      <td>1995</td>\n",
       "      <td>1</td>\n",
       "      <td>0,41869679</td>\n",
       "      <td>0,0</td>\n",
       "      <td>2,23413839</td>\n",
       "      <td>1,84649181</td>\n",
       "      <td>1,04473767</td>\n",
       "      <td>0,0</td>\n",
       "      <td>0,43530234</td>\n",
       "      <td>3,90345966</td>\n",
       "      <td>...</td>\n",
       "      <td>24,21161259</td>\n",
       "      <td>121,27492154</td>\n",
       "      <td>160,95511135</td>\n",
       "      <td>44,50362458</td>\n",
       "      <td>37,59527024</td>\n",
       "      <td>35,30349192</td>\n",
       "      <td>1,9437482</td>\n",
       "      <td>8,34773228</td>\n",
       "      <td>16,27915326</td>\n",
       "      <td>10,26813495</td>\n",
       "    </tr>\n",
       "    <tr>\n",
       "      <th>1</th>\n",
       "      <td>1995</td>\n",
       "      <td>2</td>\n",
       "      <td>0,04578434</td>\n",
       "      <td>0,0</td>\n",
       "      <td>2,74517813</td>\n",
       "      <td>42,48085156</td>\n",
       "      <td>0,36960426</td>\n",
       "      <td>0,0</td>\n",
       "      <td>0,64214309</td>\n",
       "      <td>2,29334262</td>\n",
       "      <td>...</td>\n",
       "      <td>26,77981918</td>\n",
       "      <td>43,42129588</td>\n",
       "      <td>150,04287144</td>\n",
       "      <td>30,00488924</td>\n",
       "      <td>127,62421063</td>\n",
       "      <td>25,61771037</td>\n",
       "      <td>6,73717989</td>\n",
       "      <td>4,2283233</td>\n",
       "      <td>17,33613937</td>\n",
       "      <td>2,98495465</td>\n",
       "    </tr>\n",
       "    <tr>\n",
       "      <th>2</th>\n",
       "      <td>1995</td>\n",
       "      <td>3</td>\n",
       "      <td>0,58793111</td>\n",
       "      <td>0,0</td>\n",
       "      <td>4,25038413</td>\n",
       "      <td>7,07201709</td>\n",
       "      <td>1,88492287</td>\n",
       "      <td>0,07966938</td>\n",
       "      <td>2,90366427</td>\n",
       "      <td>22,91684798</td>\n",
       "      <td>...</td>\n",
       "      <td>40,38929874</td>\n",
       "      <td>79,26081391</td>\n",
       "      <td>195,14362719</td>\n",
       "      <td>67,2498400399999</td>\n",
       "      <td>79,49332923</td>\n",
       "      <td>61,3169039300001</td>\n",
       "      <td>4,32211726</td>\n",
       "      <td>17,28640648</td>\n",
       "      <td>40,58887985</td>\n",
       "      <td>15,20808378</td>\n",
       "    </tr>\n",
       "    <tr>\n",
       "      <th>3</th>\n",
       "      <td>1995</td>\n",
       "      <td>4</td>\n",
       "      <td>0,89306092</td>\n",
       "      <td>0,0</td>\n",
       "      <td>3,3856354</td>\n",
       "      <td>2,73554948</td>\n",
       "      <td>1,96426615</td>\n",
       "      <td>0,0</td>\n",
       "      <td>0,45580241</td>\n",
       "      <td>3,14556117</td>\n",
       "      <td>...</td>\n",
       "      <td>26,27111669</td>\n",
       "      <td>27,59569635</td>\n",
       "      <td>125,44047338</td>\n",
       "      <td>82,1440808699999</td>\n",
       "      <td>32,5009858</td>\n",
       "      <td>34,56431305</td>\n",
       "      <td>12,23890039</td>\n",
       "      <td>55,16413558</td>\n",
       "      <td>27,22989044</td>\n",
       "      <td>9,6569057</td>\n",
       "    </tr>\n",
       "    <tr>\n",
       "      <th>4</th>\n",
       "      <td>1995</td>\n",
       "      <td>5</td>\n",
       "      <td>0,0</td>\n",
       "      <td>0,0</td>\n",
       "      <td>7,20134534</td>\n",
       "      <td>2,85948656</td>\n",
       "      <td>1,7582694</td>\n",
       "      <td>0,27605299</td>\n",
       "      <td>1,27020107</td>\n",
       "      <td>1,558083</td>\n",
       "      <td>...</td>\n",
       "      <td>35,18044643</td>\n",
       "      <td>63,30204158</td>\n",
       "      <td>222,39367098</td>\n",
       "      <td>81,67998936</td>\n",
       "      <td>49,01467171</td>\n",
       "      <td>39,63988675</td>\n",
       "      <td>4,58714604</td>\n",
       "      <td>33,5075155</td>\n",
       "      <td>14,40645992</td>\n",
       "      <td>6,61725569</td>\n",
       "    </tr>\n",
       "    <tr>\n",
       "      <th>...</th>\n",
       "      <td>...</td>\n",
       "      <td>...</td>\n",
       "      <td>...</td>\n",
       "      <td>...</td>\n",
       "      <td>...</td>\n",
       "      <td>...</td>\n",
       "      <td>...</td>\n",
       "      <td>...</td>\n",
       "      <td>...</td>\n",
       "      <td>...</td>\n",
       "      <td>...</td>\n",
       "      <td>...</td>\n",
       "      <td>...</td>\n",
       "      <td>...</td>\n",
       "      <td>...</td>\n",
       "      <td>...</td>\n",
       "      <td>...</td>\n",
       "      <td>...</td>\n",
       "      <td>...</td>\n",
       "      <td>...</td>\n",
       "      <td>...</td>\n",
       "    </tr>\n",
       "    <tr>\n",
       "      <th>328</th>\n",
       "      <td>2022</td>\n",
       "      <td>5</td>\n",
       "      <td>4,06783989</td>\n",
       "      <td>7,81236693</td>\n",
       "      <td>14,61591217</td>\n",
       "      <td>48,23607432</td>\n",
       "      <td>28,97038963</td>\n",
       "      <td>1,67337223</td>\n",
       "      <td>31,03412071</td>\n",
       "      <td>11,11679908</td>\n",
       "      <td>...</td>\n",
       "      <td>558,07290181</td>\n",
       "      <td>645,33454757</td>\n",
       "      <td>703,79339624</td>\n",
       "      <td>741,254652679999</td>\n",
       "      <td>302,59120231</td>\n",
       "      <td>558,061232020001</td>\n",
       "      <td>223,85900449</td>\n",
       "      <td>130,0442389</td>\n",
       "      <td>164,47239595</td>\n",
       "      <td>70,71007657</td>\n",
       "    </tr>\n",
       "    <tr>\n",
       "      <th>329</th>\n",
       "      <td>2022</td>\n",
       "      <td>6</td>\n",
       "      <td>13,89744958</td>\n",
       "      <td>0,88482565</td>\n",
       "      <td>10,54997137</td>\n",
       "      <td>124,74688041</td>\n",
       "      <td>38,71145675</td>\n",
       "      <td>3,61786869</td>\n",
       "      <td>794,44992277</td>\n",
       "      <td>11,47645052</td>\n",
       "      <td>...</td>\n",
       "      <td>1376,18524191</td>\n",
       "      <td>41,74329091</td>\n",
       "      <td>764,46803431</td>\n",
       "      <td>837,804394950001</td>\n",
       "      <td>1221,11452149</td>\n",
       "      <td>1222,94037092</td>\n",
       "      <td>32,51207587</td>\n",
       "      <td>3211,18418971</td>\n",
       "      <td>791,05098541</td>\n",
       "      <td>165,91376688</td>\n",
       "    </tr>\n",
       "    <tr>\n",
       "      <th>330</th>\n",
       "      <td>2022</td>\n",
       "      <td>7</td>\n",
       "      <td>10,34132343</td>\n",
       "      <td>1,0679862</td>\n",
       "      <td>14,10750401</td>\n",
       "      <td>200,49029754</td>\n",
       "      <td>44,43352603</td>\n",
       "      <td>3,85773118</td>\n",
       "      <td>97,05561229</td>\n",
       "      <td>13,42977769</td>\n",
       "      <td>...</td>\n",
       "      <td>858,53516863</td>\n",
       "      <td>144,37227278</td>\n",
       "      <td>1049,3590351</td>\n",
       "      <td>2045,51920339</td>\n",
       "      <td>2665,2103784</td>\n",
       "      <td>953,125456559998</td>\n",
       "      <td>12,37752263</td>\n",
       "      <td>399,13953265</td>\n",
       "      <td>954,01245605</td>\n",
       "      <td>302,14895266</td>\n",
       "    </tr>\n",
       "    <tr>\n",
       "      <th>331</th>\n",
       "      <td>2022</td>\n",
       "      <td>8</td>\n",
       "      <td>7,03958991</td>\n",
       "      <td>0,14522777</td>\n",
       "      <td>44,61213262</td>\n",
       "      <td>136,93537374</td>\n",
       "      <td>89,93204952</td>\n",
       "      <td>12,16373633</td>\n",
       "      <td>142,19547459</td>\n",
       "      <td>13,1501605</td>\n",
       "      <td>...</td>\n",
       "      <td>1476,64930586</td>\n",
       "      <td>121,12564391</td>\n",
       "      <td>1367,30170048</td>\n",
       "      <td>2851,29376192</td>\n",
       "      <td>2632,90075476</td>\n",
       "      <td>1531,81584675</td>\n",
       "      <td>10,164665</td>\n",
       "      <td>894,75762712</td>\n",
       "      <td>1303,39378227</td>\n",
       "      <td>389,0426263</td>\n",
       "    </tr>\n",
       "    <tr>\n",
       "      <th>332</th>\n",
       "      <td>2022</td>\n",
       "      <td>9</td>\n",
       "      <td>1,50401936</td>\n",
       "      <td>0,1094968</td>\n",
       "      <td>11,58278696</td>\n",
       "      <td>150,04349258</td>\n",
       "      <td>39,89964635</td>\n",
       "      <td>3,91051369</td>\n",
       "      <td>41,45113971</td>\n",
       "      <td>15,72325634</td>\n",
       "      <td>...</td>\n",
       "      <td>982,63576238</td>\n",
       "      <td>244,34930591</td>\n",
       "      <td>2443,45002808</td>\n",
       "      <td>1023,83256484</td>\n",
       "      <td>1117,13439613</td>\n",
       "      <td>954,559760200001</td>\n",
       "      <td>9,77051096</td>\n",
       "      <td>248,50599013</td>\n",
       "      <td>510,37852394</td>\n",
       "      <td>175,95969387</td>\n",
       "    </tr>\n",
       "  </tbody>\n",
       "</table>\n",
       "<p>333 rows × 29 columns</p>\n",
       "</div>"
      ],
      "text/plain": [
       "      ano  mes         acre       amapa     amazonas          para  \\\n",
       "0    1995    1   0,41869679         0,0   2,23413839    1,84649181   \n",
       "1    1995    2   0,04578434         0,0   2,74517813   42,48085156   \n",
       "2    1995    3   0,58793111         0,0   4,25038413    7,07201709   \n",
       "3    1995    4   0,89306092         0,0    3,3856354    2,73554948   \n",
       "4    1995    5          0,0         0,0   7,20134534    2,85948656   \n",
       "..    ...  ...          ...         ...          ...           ...   \n",
       "328  2022    5   4,06783989  7,81236693  14,61591217   48,23607432   \n",
       "329  2022    6  13,89744958  0,88482565  10,54997137  124,74688041   \n",
       "330  2022    7  10,34132343   1,0679862  14,10750401  200,49029754   \n",
       "331  2022    8   7,03958991  0,14522777  44,61213262  136,93537374   \n",
       "332  2022    9   1,50401936   0,1094968  11,58278696  150,04349258   \n",
       "\n",
       "        rondonia      roraima     tocantins      alagoas  ...   minas_gerais  \\\n",
       "0     1,04473767          0,0    0,43530234   3,90345966  ...    24,21161259   \n",
       "1     0,36960426          0,0    0,64214309   2,29334262  ...    26,77981918   \n",
       "2     1,88492287   0,07966938    2,90366427  22,91684798  ...    40,38929874   \n",
       "3     1,96426615          0,0    0,45580241   3,14556117  ...    26,27111669   \n",
       "4      1,7582694   0,27605299    1,27020107     1,558083  ...    35,18044643   \n",
       "..           ...          ...           ...          ...  ...            ...   \n",
       "328  28,97038963   1,67337223   31,03412071  11,11679908  ...   558,07290181   \n",
       "329  38,71145675   3,61786869  794,44992277  11,47645052  ...  1376,18524191   \n",
       "330  44,43352603   3,85773118   97,05561229  13,42977769  ...   858,53516863   \n",
       "331  89,93204952  12,16373633  142,19547459   13,1501605  ...  1476,64930586   \n",
       "332  39,89964635   3,91051369   41,45113971  15,72325634  ...   982,63576238   \n",
       "\n",
       "    rio_de_janeiro      sao_paulo            parana rio_grande_do_sul  \\\n",
       "0     121,27492154   160,95511135       44,50362458       37,59527024   \n",
       "1      43,42129588   150,04287144       30,00488924      127,62421063   \n",
       "2      79,26081391   195,14362719  67,2498400399999       79,49332923   \n",
       "3      27,59569635   125,44047338  82,1440808699999        32,5009858   \n",
       "4      63,30204158   222,39367098       81,67998936       49,01467171   \n",
       "..             ...            ...               ...               ...   \n",
       "328   645,33454757   703,79339624  741,254652679999      302,59120231   \n",
       "329    41,74329091   764,46803431  837,804394950001     1221,11452149   \n",
       "330   144,37227278   1049,3590351     2045,51920339      2665,2103784   \n",
       "331   121,12564391  1367,30170048     2851,29376192     2632,90075476   \n",
       "332   244,34930591  2443,45002808     1023,83256484     1117,13439613   \n",
       "\n",
       "       santa_catarina distrito_federal          goias    mato_grosso  \\\n",
       "0         35,30349192        1,9437482     8,34773228    16,27915326   \n",
       "1         25,61771037       6,73717989      4,2283233    17,33613937   \n",
       "2    61,3169039300001       4,32211726    17,28640648    40,58887985   \n",
       "3         34,56431305      12,23890039    55,16413558    27,22989044   \n",
       "4         39,63988675       4,58714604     33,5075155    14,40645992   \n",
       "..                ...              ...            ...            ...   \n",
       "328  558,061232020001     223,85900449    130,0442389   164,47239595   \n",
       "329     1222,94037092      32,51207587  3211,18418971   791,05098541   \n",
       "330  953,125456559998      12,37752263   399,13953265   954,01245605   \n",
       "331     1531,81584675        10,164665   894,75762712  1303,39378227   \n",
       "332  954,559760200001       9,77051096   248,50599013   510,37852394   \n",
       "\n",
       "    mato_grosso_do_sul  \n",
       "0          10,26813495  \n",
       "1           2,98495465  \n",
       "2          15,20808378  \n",
       "3            9,6569057  \n",
       "4           6,61725569  \n",
       "..                 ...  \n",
       "328        70,71007657  \n",
       "329       165,91376688  \n",
       "330       302,14895266  \n",
       "331        389,0426263  \n",
       "332       175,95969387  \n",
       "\n",
       "[333 rows x 29 columns]"
      ]
     },
     "execution_count": 6,
     "metadata": {},
     "output_type": "execute_result"
    }
   ],
   "source": [
    "# LINK ANTIGO\n",
    "# pd.read_csv('https://dadosabertos.bndes.gov.br/dataset/bce5a865-e766-4a7a-b537-9499c81275b6/resource/bbe8210d-e3b1-4db9-94c5-66cfc8ee2a0f/download/aprovacoes-por-uf.csv', sep=';')\n",
    "\n",
    "# LINK ATUAL\n",
    "pd.read_csv('https://dadosabertos.bndes.gov.br/dataset/bce5a865-e766-4a7a-b537-9499c81275b6/resource/08f7a11c-48e0-4d3e-9a75-d95641657ebf/download/aprovacoes-por-uf-aprovacoes.csv', sep=';')"
   ]
  },
  {
   "cell_type": "code",
   "execution_count": 7,
   "metadata": {
    "ExecuteTime": {
     "end_time": "2021-05-22T14:21:40.566828Z",
     "start_time": "2021-05-22T14:21:40.090878Z"
    }
   },
   "outputs": [
    {
     "data": {
      "text/html": [
       "<div>\n",
       "<style scoped>\n",
       "    .dataframe tbody tr th:only-of-type {\n",
       "        vertical-align: middle;\n",
       "    }\n",
       "\n",
       "    .dataframe tbody tr th {\n",
       "        vertical-align: top;\n",
       "    }\n",
       "\n",
       "    .dataframe thead th {\n",
       "        text-align: right;\n",
       "    }\n",
       "</style>\n",
       "<table border=\"1\" class=\"dataframe\">\n",
       "  <thead>\n",
       "    <tr style=\"text-align: right;\">\n",
       "      <th></th>\n",
       "      <th>ano</th>\n",
       "      <th>mes</th>\n",
       "      <th>acre</th>\n",
       "      <th>amapa</th>\n",
       "      <th>amazonas</th>\n",
       "      <th>para</th>\n",
       "      <th>rondonia</th>\n",
       "      <th>roraima</th>\n",
       "      <th>tocantins</th>\n",
       "      <th>alagoas</th>\n",
       "      <th>...</th>\n",
       "      <th>minas_gerais</th>\n",
       "      <th>rio_de_janeiro</th>\n",
       "      <th>sao_paulo</th>\n",
       "      <th>parana</th>\n",
       "      <th>rio_grande_do_sul</th>\n",
       "      <th>santa_catarina</th>\n",
       "      <th>distrito_federal</th>\n",
       "      <th>goias</th>\n",
       "      <th>mato_grosso</th>\n",
       "      <th>mato_grosso_do_sul</th>\n",
       "    </tr>\n",
       "  </thead>\n",
       "  <tbody>\n",
       "    <tr>\n",
       "      <th>0</th>\n",
       "      <td>1995</td>\n",
       "      <td>1</td>\n",
       "      <td>0.418697</td>\n",
       "      <td>0.0</td>\n",
       "      <td>2.234138</td>\n",
       "      <td>1.846492</td>\n",
       "      <td>1.044738</td>\n",
       "      <td>0.000000</td>\n",
       "      <td>0.435302</td>\n",
       "      <td>3.903460</td>\n",
       "      <td>...</td>\n",
       "      <td>24.211613</td>\n",
       "      <td>121.274922</td>\n",
       "      <td>160.955111</td>\n",
       "      <td>44.503625</td>\n",
       "      <td>37.595270</td>\n",
       "      <td>35.303492</td>\n",
       "      <td>1.943748</td>\n",
       "      <td>8.347732</td>\n",
       "      <td>16.279153</td>\n",
       "      <td>10.268135</td>\n",
       "    </tr>\n",
       "    <tr>\n",
       "      <th>1</th>\n",
       "      <td>1995</td>\n",
       "      <td>2</td>\n",
       "      <td>0.045784</td>\n",
       "      <td>0.0</td>\n",
       "      <td>2.745178</td>\n",
       "      <td>42.480852</td>\n",
       "      <td>0.369604</td>\n",
       "      <td>0.000000</td>\n",
       "      <td>0.642143</td>\n",
       "      <td>2.293343</td>\n",
       "      <td>...</td>\n",
       "      <td>26.779819</td>\n",
       "      <td>43.421296</td>\n",
       "      <td>150.042871</td>\n",
       "      <td>30.004889</td>\n",
       "      <td>127.624211</td>\n",
       "      <td>25.617710</td>\n",
       "      <td>6.737180</td>\n",
       "      <td>4.228323</td>\n",
       "      <td>17.336139</td>\n",
       "      <td>2.984955</td>\n",
       "    </tr>\n",
       "    <tr>\n",
       "      <th>2</th>\n",
       "      <td>1995</td>\n",
       "      <td>3</td>\n",
       "      <td>0.587931</td>\n",
       "      <td>0.0</td>\n",
       "      <td>4.250384</td>\n",
       "      <td>7.072017</td>\n",
       "      <td>1.884923</td>\n",
       "      <td>0.079669</td>\n",
       "      <td>2.903664</td>\n",
       "      <td>22.916848</td>\n",
       "      <td>...</td>\n",
       "      <td>40.389299</td>\n",
       "      <td>79.260814</td>\n",
       "      <td>195.143627</td>\n",
       "      <td>67.249840</td>\n",
       "      <td>79.493329</td>\n",
       "      <td>61.316904</td>\n",
       "      <td>4.322117</td>\n",
       "      <td>17.286406</td>\n",
       "      <td>40.588880</td>\n",
       "      <td>15.208084</td>\n",
       "    </tr>\n",
       "    <tr>\n",
       "      <th>3</th>\n",
       "      <td>1995</td>\n",
       "      <td>4</td>\n",
       "      <td>0.893061</td>\n",
       "      <td>0.0</td>\n",
       "      <td>3.385635</td>\n",
       "      <td>2.735549</td>\n",
       "      <td>1.964266</td>\n",
       "      <td>0.000000</td>\n",
       "      <td>0.455802</td>\n",
       "      <td>3.145561</td>\n",
       "      <td>...</td>\n",
       "      <td>26.271117</td>\n",
       "      <td>27.595696</td>\n",
       "      <td>125.440473</td>\n",
       "      <td>82.144081</td>\n",
       "      <td>32.500986</td>\n",
       "      <td>34.564313</td>\n",
       "      <td>12.238900</td>\n",
       "      <td>55.164136</td>\n",
       "      <td>27.229890</td>\n",
       "      <td>9.656906</td>\n",
       "    </tr>\n",
       "    <tr>\n",
       "      <th>4</th>\n",
       "      <td>1995</td>\n",
       "      <td>5</td>\n",
       "      <td>0.000000</td>\n",
       "      <td>0.0</td>\n",
       "      <td>7.201345</td>\n",
       "      <td>2.859487</td>\n",
       "      <td>1.758269</td>\n",
       "      <td>0.276053</td>\n",
       "      <td>1.270201</td>\n",
       "      <td>1.558083</td>\n",
       "      <td>...</td>\n",
       "      <td>35.180446</td>\n",
       "      <td>63.302042</td>\n",
       "      <td>222.393671</td>\n",
       "      <td>81.679989</td>\n",
       "      <td>49.014672</td>\n",
       "      <td>39.639887</td>\n",
       "      <td>4.587146</td>\n",
       "      <td>33.507515</td>\n",
       "      <td>14.406460</td>\n",
       "      <td>6.617256</td>\n",
       "    </tr>\n",
       "  </tbody>\n",
       "</table>\n",
       "<p>5 rows × 29 columns</p>\n",
       "</div>"
      ],
      "text/plain": [
       "    ano  mes      acre  amapa  amazonas       para  rondonia   roraima  \\\n",
       "0  1995    1  0.418697    0.0  2.234138   1.846492  1.044738  0.000000   \n",
       "1  1995    2  0.045784    0.0  2.745178  42.480852  0.369604  0.000000   \n",
       "2  1995    3  0.587931    0.0  4.250384   7.072017  1.884923  0.079669   \n",
       "3  1995    4  0.893061    0.0  3.385635   2.735549  1.964266  0.000000   \n",
       "4  1995    5  0.000000    0.0  7.201345   2.859487  1.758269  0.276053   \n",
       "\n",
       "   tocantins    alagoas  ...  minas_gerais  rio_de_janeiro   sao_paulo  \\\n",
       "0   0.435302   3.903460  ...     24.211613      121.274922  160.955111   \n",
       "1   0.642143   2.293343  ...     26.779819       43.421296  150.042871   \n",
       "2   2.903664  22.916848  ...     40.389299       79.260814  195.143627   \n",
       "3   0.455802   3.145561  ...     26.271117       27.595696  125.440473   \n",
       "4   1.270201   1.558083  ...     35.180446       63.302042  222.393671   \n",
       "\n",
       "      parana  rio_grande_do_sul  santa_catarina  distrito_federal      goias  \\\n",
       "0  44.503625          37.595270       35.303492          1.943748   8.347732   \n",
       "1  30.004889         127.624211       25.617710          6.737180   4.228323   \n",
       "2  67.249840          79.493329       61.316904          4.322117  17.286406   \n",
       "3  82.144081          32.500986       34.564313         12.238900  55.164136   \n",
       "4  81.679989          49.014672       39.639887          4.587146  33.507515   \n",
       "\n",
       "   mato_grosso  mato_grosso_do_sul  \n",
       "0    16.279153           10.268135  \n",
       "1    17.336139            2.984955  \n",
       "2    40.588880           15.208084  \n",
       "3    27.229890            9.656906  \n",
       "4    14.406460            6.617256  \n",
       "\n",
       "[5 rows x 29 columns]"
      ]
     },
     "execution_count": 7,
     "metadata": {},
     "output_type": "execute_result"
    }
   ],
   "source": [
    "# LINK ANTIGO\n",
    "# aprovacoes = pd.read_csv('https://dadosabertos.bndes.gov.br/dataset/bce5a865-e766-4a7a-b537-9499c81275b6/resource/bbe8210d-e3b1-4db9-94c5-66cfc8ee2a0f/download/aprovacoes-por-uf.csv', sep=';', decimal=',')\n",
    "\n",
    "# LINK ATUAL\n",
    "aprovacoes = pd.read_csv('https://dadosabertos.bndes.gov.br/dataset/bce5a865-e766-4a7a-b537-9499c81275b6/resource/08f7a11c-48e0-4d3e-9a75-d95641657ebf/download/aprovacoes-por-uf-aprovacoes.csv', sep=';', decimal=',')\n",
    "aprovacoes.head(5)"
   ]
  },
  {
   "cell_type": "markdown",
   "metadata": {},
   "source": [
    "### Identificando e contando valores únicos"
   ]
  },
  {
   "cell_type": "code",
   "execution_count": 8,
   "metadata": {
    "ExecuteTime": {
     "end_time": "2021-05-22T14:21:40.676929Z",
     "start_time": "2021-05-22T14:21:40.661943Z"
    }
   },
   "outputs": [
    {
     "data": {
      "text/plain": [
       "array([1995, 1996, 1997, 1998, 1999, 2000, 2001, 2002, 2003, 2004, 2005,\n",
       "       2006, 2007, 2008, 2009, 2010, 2011, 2012, 2013, 2014, 2015, 2016,\n",
       "       2017, 2018, 2019, 2020, 2021, 2022])"
      ]
     },
     "execution_count": 8,
     "metadata": {},
     "output_type": "execute_result"
    }
   ],
   "source": [
    "aprovacoes['ano'].unique()"
   ]
  },
  {
   "cell_type": "code",
   "execution_count": 9,
   "metadata": {
    "ExecuteTime": {
     "end_time": "2021-05-22T14:21:41.004846Z",
     "start_time": "2021-05-22T14:21:40.993832Z"
    }
   },
   "outputs": [
    {
     "data": {
      "text/plain": [
       "28"
      ]
     },
     "execution_count": 9,
     "metadata": {},
     "output_type": "execute_result"
    }
   ],
   "source": [
    "aprovacoes['ano'].nunique()"
   ]
  },
  {
   "cell_type": "code",
   "execution_count": 10,
   "metadata": {
    "ExecuteTime": {
     "end_time": "2021-05-22T14:21:41.672494Z",
     "start_time": "2021-05-22T14:21:41.665513Z"
    }
   },
   "outputs": [
    {
     "data": {
      "text/plain": [
       "array([ 1,  2,  3,  4,  5,  6,  7,  8,  9, 10, 11, 12])"
      ]
     },
     "execution_count": 10,
     "metadata": {},
     "output_type": "execute_result"
    }
   ],
   "source": [
    "aprovacoes['mes'].unique()"
   ]
  },
  {
   "cell_type": "code",
   "execution_count": 11,
   "metadata": {
    "ExecuteTime": {
     "end_time": "2021-05-22T14:21:41.829860Z",
     "start_time": "2021-05-22T14:21:41.816853Z"
    }
   },
   "outputs": [
    {
     "data": {
      "text/plain": [
       "12"
      ]
     },
     "execution_count": 11,
     "metadata": {},
     "output_type": "execute_result"
    }
   ],
   "source": [
    "aprovacoes['mes'].nunique()"
   ]
  },
  {
   "cell_type": "code",
   "execution_count": 12,
   "metadata": {
    "ExecuteTime": {
     "end_time": "2021-05-22T14:21:42.519491Z",
     "start_time": "2021-05-22T14:21:42.505506Z"
    }
   },
   "outputs": [
    {
     "data": {
      "text/plain": [
       "Index(['ano', 'mes', 'acre', 'amapa', 'amazonas', 'para', 'rondonia',\n",
       "       'roraima', 'tocantins', 'alagoas', 'bahia', 'ceara', 'maranhao',\n",
       "       'paraiba', 'pernambuco', 'piaui', 'rio_grande_do_norte', 'sergipe',\n",
       "       'espirito_santo', 'minas_gerais', 'rio_de_janeiro', 'sao_paulo',\n",
       "       'parana', 'rio_grande_do_sul', 'santa_catarina', 'distrito_federal',\n",
       "       'goias', 'mato_grosso', 'mato_grosso_do_sul'],\n",
       "      dtype='object')"
      ]
     },
     "execution_count": 12,
     "metadata": {},
     "output_type": "execute_result"
    }
   ],
   "source": [
    "aprovacoes.columns.unique()"
   ]
  },
  {
   "cell_type": "code",
   "execution_count": 13,
   "metadata": {
    "ExecuteTime": {
     "end_time": "2021-05-22T14:21:43.144896Z",
     "start_time": "2021-05-22T14:21:43.128895Z"
    }
   },
   "outputs": [
    {
     "data": {
      "text/plain": [
       "Index(['acre', 'amapa', 'amazonas', 'para', 'rondonia', 'roraima', 'tocantins',\n",
       "       'alagoas', 'bahia', 'ceara', 'maranhao', 'paraiba', 'pernambuco',\n",
       "       'piaui', 'rio_grande_do_norte', 'sergipe', 'espirito_santo',\n",
       "       'minas_gerais', 'rio_de_janeiro', 'sao_paulo', 'parana',\n",
       "       'rio_grande_do_sul', 'santa_catarina', 'distrito_federal', 'goias',\n",
       "       'mato_grosso', 'mato_grosso_do_sul'],\n",
       "      dtype='object')"
      ]
     },
     "execution_count": 13,
     "metadata": {},
     "output_type": "execute_result"
    }
   ],
   "source": [
    "aprovacoes.loc[:,'acre':].columns.unique()"
   ]
  },
  {
   "cell_type": "code",
   "execution_count": 14,
   "metadata": {
    "ExecuteTime": {
     "end_time": "2021-05-22T14:21:45.681799Z",
     "start_time": "2021-05-22T14:21:45.664809Z"
    },
    "scrolled": true
   },
   "outputs": [
    {
     "data": {
      "text/plain": [
       "27"
      ]
     },
     "execution_count": 14,
     "metadata": {},
     "output_type": "execute_result"
    }
   ],
   "source": [
    "aprovacoes.loc[:,'acre':].columns.nunique()"
   ]
  },
  {
   "cell_type": "code",
   "execution_count": null,
   "metadata": {},
   "outputs": [],
   "source": []
  },
  {
   "cell_type": "markdown",
   "metadata": {},
   "source": [
    "### Gerando o total de aprovações"
   ]
  },
  {
   "cell_type": "code",
   "execution_count": null,
   "metadata": {
    "ExecuteTime": {
     "end_time": "2021-05-22T13:53:35.628457Z",
     "start_time": "2021-05-22T13:53:35.615465Z"
    }
   },
   "outputs": [],
   "source": [
    "aprovacoes.sum()"
   ]
  },
  {
   "cell_type": "code",
   "execution_count": null,
   "metadata": {
    "ExecuteTime": {
     "end_time": "2021-05-22T13:53:38.029476Z",
     "start_time": "2021-05-22T13:53:38.013470Z"
    }
   },
   "outputs": [],
   "source": [
    "aprovacoes.sum(axis=0)"
   ]
  },
  {
   "cell_type": "code",
   "execution_count": null,
   "metadata": {
    "ExecuteTime": {
     "end_time": "2021-05-22T13:54:21.588668Z",
     "start_time": "2021-05-22T13:54:21.582671Z"
    }
   },
   "outputs": [],
   "source": [
    "aprovacoes.sum(axis=1)"
   ]
  },
  {
   "cell_type": "code",
   "execution_count": null,
   "metadata": {
    "ExecuteTime": {
     "end_time": "2021-05-22T14:01:50.208173Z",
     "start_time": "2021-05-22T14:01:50.174177Z"
    },
    "scrolled": true
   },
   "outputs": [],
   "source": [
    "aprovacoes['total']  = aprovacoes.loc[:,'acre':].sum(axis=1)\n",
    "aprovacoes"
   ]
  },
  {
   "cell_type": "code",
   "execution_count": null,
   "metadata": {
    "ExecuteTime": {
     "end_time": "2021-05-22T14:02:01.279256Z",
     "start_time": "2021-05-22T14:02:01.132337Z"
    }
   },
   "outputs": [],
   "source": [
    "aprovacoes['total'].plot()"
   ]
  },
  {
   "cell_type": "code",
   "execution_count": null,
   "metadata": {
    "ExecuteTime": {
     "end_time": "2021-05-22T13:58:01.907541Z",
     "start_time": "2021-05-22T13:58:01.862482Z"
    }
   },
   "outputs": [],
   "source": [
    "aprovacoes.loc[:]"
   ]
  },
  {
   "cell_type": "code",
   "execution_count": null,
   "metadata": {
    "ExecuteTime": {
     "end_time": "2021-05-22T13:57:49.918211Z",
     "start_time": "2021-05-22T13:57:49.878222Z"
    }
   },
   "outputs": [],
   "source": [
    "aprovacoes.loc[:,'acre':]"
   ]
  },
  {
   "cell_type": "code",
   "execution_count": null,
   "metadata": {
    "ExecuteTime": {
     "end_time": "2021-05-22T13:58:59.363387Z",
     "start_time": "2021-05-22T13:58:59.053546Z"
    }
   },
   "outputs": [],
   "source": [
    "aprovacoes.loc[:,'acre':].sum().plot(kind='bar')"
   ]
  },
  {
   "cell_type": "code",
   "execution_count": null,
   "metadata": {
    "ExecuteTime": {
     "end_time": "2021-05-22T13:59:27.475613Z",
     "start_time": "2021-05-22T13:59:27.165792Z"
    }
   },
   "outputs": [],
   "source": [
    "aprovacoes.loc[:,'acre':'mato_grosso_do_sul'].sum().plot(kind='bar')"
   ]
  },
  {
   "cell_type": "code",
   "execution_count": null,
   "metadata": {
    "ExecuteTime": {
     "end_time": "2021-05-22T14:00:12.365858Z",
     "start_time": "2021-05-22T14:00:12.029050Z"
    }
   },
   "outputs": [],
   "source": [
    "aprovacoes.loc[:,'acre':'mato_grosso_do_sul'].sum().plot(kind='bar', figsize=(15,5))"
   ]
  }
 ],
 "metadata": {
  "kernelspec": {
   "display_name": "Python 3 (ipykernel)",
   "language": "python",
   "name": "python3"
  },
  "language_info": {
   "codemirror_mode": {
    "name": "ipython",
    "version": 3
   },
   "file_extension": ".py",
   "mimetype": "text/x-python",
   "name": "python",
   "nbconvert_exporter": "python",
   "pygments_lexer": "ipython3",
   "version": "3.9.13"
  },
  "varInspector": {
   "cols": {
    "lenName": 16,
    "lenType": 16,
    "lenVar": 40
   },
   "kernels_config": {
    "python": {
     "delete_cmd_postfix": "",
     "delete_cmd_prefix": "del ",
     "library": "var_list.py",
     "varRefreshCmd": "print(var_dic_list())"
    },
    "r": {
     "delete_cmd_postfix": ") ",
     "delete_cmd_prefix": "rm(",
     "library": "var_list.r",
     "varRefreshCmd": "cat(var_dic_list()) "
    }
   },
   "types_to_exclude": [
    "module",
    "function",
    "builtin_function_or_method",
    "instance",
    "_Feature"
   ],
   "window_display": false
  }
 },
 "nbformat": 4,
 "nbformat_minor": 4
}
