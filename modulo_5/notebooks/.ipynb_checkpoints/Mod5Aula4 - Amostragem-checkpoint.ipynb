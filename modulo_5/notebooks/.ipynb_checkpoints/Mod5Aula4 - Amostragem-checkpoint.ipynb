{
 "cells": [
  {
   "cell_type": "markdown",
   "metadata": {},
   "source": [
    "# Índice <a name=\"Contents\"></a>\n",
    "1. [Importando bibliotecas](#import)\n",
    "2. [Construindo um dataframe ](#read)\n",
    "3. [Amostragem (sample)](#amostragem)\n",
    "3. [Intro sobre métodos de string](#strings)\n",
    "\n"
   ]
  },
  {
   "cell_type": "markdown",
   "metadata": {},
   "source": [
    "# 1. Importando bibliotecas <a name=\"import\"></a>\n",
    "\n",
    "<div style=\"text-align: right\"\n",
    "     \n",
    "[Voltar ao índice](#Contents)"
   ]
  },
  {
   "cell_type": "code",
   "execution_count": 1,
   "metadata": {
    "ExecuteTime": {
     "end_time": "2021-05-31T09:48:00.524786Z",
     "start_time": "2021-05-31T09:47:57.714385Z"
    }
   },
   "outputs": [],
   "source": [
    "import numpy  as np\n",
    "import pandas as pd"
   ]
  },
  {
   "cell_type": "markdown",
   "metadata": {},
   "source": [
    "# 2. Construindo um dataframe  <a name=\"read\"></a>\n",
    "<div style=\"text-align: right\"\n",
    "     \n",
    "[Voltar ao índice](#Contents)"
   ]
  },
  {
   "cell_type": "code",
   "execution_count": 2,
   "metadata": {
    "ExecuteTime": {
     "end_time": "2021-05-31T09:50:48.945129Z",
     "start_time": "2021-05-31T09:50:48.840662Z"
    }
   },
   "outputs": [],
   "source": [
    "df = pd.DataFrame(np.random.randint(100000, size=(1000000, 10)),\n",
    "             columns=['A', 'B', 'C', 'D', 'E', 'F', 'G', 'H', 'I', 'J'])"
   ]
  },
  {
   "cell_type": "markdown",
   "metadata": {},
   "source": [
    "# 3. Amostragem <a name=\"amostragem\"></a>\n",
    "<div style=\"text-align: right\"\n",
    "     \n",
    "[Voltar ao índice](#Contents)"
   ]
  },
  {
   "cell_type": "code",
   "execution_count": 3,
   "metadata": {
    "ExecuteTime": {
     "end_time": "2021-05-31T09:53:30.287377Z",
     "start_time": "2021-05-31T09:53:30.273391Z"
    }
   },
   "outputs": [
    {
     "data": {
      "text/plain": [
       "(1000000, 10)"
      ]
     },
     "execution_count": 3,
     "metadata": {},
     "output_type": "execute_result"
    }
   ],
   "source": [
    "df.shape"
   ]
  },
  {
   "cell_type": "code",
   "execution_count": 6,
   "metadata": {
    "ExecuteTime": {
     "end_time": "2021-05-31T09:52:47.422509Z",
     "start_time": "2021-05-31T09:52:47.363477Z"
    }
   },
   "outputs": [
    {
     "data": {
      "text/html": [
       "<div>\n",
       "<style scoped>\n",
       "    .dataframe tbody tr th:only-of-type {\n",
       "        vertical-align: middle;\n",
       "    }\n",
       "\n",
       "    .dataframe tbody tr th {\n",
       "        vertical-align: top;\n",
       "    }\n",
       "\n",
       "    .dataframe thead th {\n",
       "        text-align: right;\n",
       "    }\n",
       "</style>\n",
       "<table border=\"1\" class=\"dataframe\">\n",
       "  <thead>\n",
       "    <tr style=\"text-align: right;\">\n",
       "      <th></th>\n",
       "      <th>A</th>\n",
       "      <th>B</th>\n",
       "      <th>C</th>\n",
       "      <th>D</th>\n",
       "      <th>E</th>\n",
       "      <th>F</th>\n",
       "      <th>G</th>\n",
       "      <th>H</th>\n",
       "      <th>I</th>\n",
       "      <th>J</th>\n",
       "    </tr>\n",
       "  </thead>\n",
       "  <tbody>\n",
       "    <tr>\n",
       "      <th>349288</th>\n",
       "      <td>37092</td>\n",
       "      <td>51616</td>\n",
       "      <td>62141</td>\n",
       "      <td>73228</td>\n",
       "      <td>58714</td>\n",
       "      <td>71892</td>\n",
       "      <td>47616</td>\n",
       "      <td>68795</td>\n",
       "      <td>46073</td>\n",
       "      <td>26622</td>\n",
       "    </tr>\n",
       "    <tr>\n",
       "      <th>10757</th>\n",
       "      <td>72806</td>\n",
       "      <td>65534</td>\n",
       "      <td>42249</td>\n",
       "      <td>74636</td>\n",
       "      <td>25556</td>\n",
       "      <td>72900</td>\n",
       "      <td>5328</td>\n",
       "      <td>18016</td>\n",
       "      <td>64140</td>\n",
       "      <td>625</td>\n",
       "    </tr>\n",
       "    <tr>\n",
       "      <th>456216</th>\n",
       "      <td>63250</td>\n",
       "      <td>88234</td>\n",
       "      <td>70303</td>\n",
       "      <td>58136</td>\n",
       "      <td>52518</td>\n",
       "      <td>40418</td>\n",
       "      <td>3582</td>\n",
       "      <td>96836</td>\n",
       "      <td>84273</td>\n",
       "      <td>72493</td>\n",
       "    </tr>\n",
       "    <tr>\n",
       "      <th>360963</th>\n",
       "      <td>90480</td>\n",
       "      <td>82777</td>\n",
       "      <td>80128</td>\n",
       "      <td>31386</td>\n",
       "      <td>26107</td>\n",
       "      <td>16388</td>\n",
       "      <td>83473</td>\n",
       "      <td>61440</td>\n",
       "      <td>44384</td>\n",
       "      <td>68177</td>\n",
       "    </tr>\n",
       "    <tr>\n",
       "      <th>746956</th>\n",
       "      <td>43399</td>\n",
       "      <td>60569</td>\n",
       "      <td>58054</td>\n",
       "      <td>53006</td>\n",
       "      <td>34924</td>\n",
       "      <td>45201</td>\n",
       "      <td>25665</td>\n",
       "      <td>3567</td>\n",
       "      <td>95844</td>\n",
       "      <td>31571</td>\n",
       "    </tr>\n",
       "    <tr>\n",
       "      <th>...</th>\n",
       "      <td>...</td>\n",
       "      <td>...</td>\n",
       "      <td>...</td>\n",
       "      <td>...</td>\n",
       "      <td>...</td>\n",
       "      <td>...</td>\n",
       "      <td>...</td>\n",
       "      <td>...</td>\n",
       "      <td>...</td>\n",
       "      <td>...</td>\n",
       "    </tr>\n",
       "    <tr>\n",
       "      <th>959680</th>\n",
       "      <td>14250</td>\n",
       "      <td>29215</td>\n",
       "      <td>10861</td>\n",
       "      <td>18980</td>\n",
       "      <td>57325</td>\n",
       "      <td>97974</td>\n",
       "      <td>30408</td>\n",
       "      <td>96018</td>\n",
       "      <td>78092</td>\n",
       "      <td>97380</td>\n",
       "    </tr>\n",
       "    <tr>\n",
       "      <th>332694</th>\n",
       "      <td>18191</td>\n",
       "      <td>92668</td>\n",
       "      <td>11898</td>\n",
       "      <td>63543</td>\n",
       "      <td>99363</td>\n",
       "      <td>80632</td>\n",
       "      <td>75220</td>\n",
       "      <td>8189</td>\n",
       "      <td>92361</td>\n",
       "      <td>97628</td>\n",
       "    </tr>\n",
       "    <tr>\n",
       "      <th>597289</th>\n",
       "      <td>72129</td>\n",
       "      <td>86054</td>\n",
       "      <td>69575</td>\n",
       "      <td>86209</td>\n",
       "      <td>18046</td>\n",
       "      <td>14024</td>\n",
       "      <td>31977</td>\n",
       "      <td>68474</td>\n",
       "      <td>80349</td>\n",
       "      <td>3181</td>\n",
       "    </tr>\n",
       "    <tr>\n",
       "      <th>607690</th>\n",
       "      <td>55521</td>\n",
       "      <td>55152</td>\n",
       "      <td>54001</td>\n",
       "      <td>61482</td>\n",
       "      <td>4089</td>\n",
       "      <td>2344</td>\n",
       "      <td>87842</td>\n",
       "      <td>78279</td>\n",
       "      <td>85321</td>\n",
       "      <td>35251</td>\n",
       "    </tr>\n",
       "    <tr>\n",
       "      <th>615005</th>\n",
       "      <td>93066</td>\n",
       "      <td>4428</td>\n",
       "      <td>33691</td>\n",
       "      <td>70064</td>\n",
       "      <td>14478</td>\n",
       "      <td>63766</td>\n",
       "      <td>65202</td>\n",
       "      <td>67531</td>\n",
       "      <td>24088</td>\n",
       "      <td>8691</td>\n",
       "    </tr>\n",
       "  </tbody>\n",
       "</table>\n",
       "<p>100 rows × 10 columns</p>\n",
       "</div>"
      ],
      "text/plain": [
       "            A      B      C      D      E      F      G      H      I      J\n",
       "349288  37092  51616  62141  73228  58714  71892  47616  68795  46073  26622\n",
       "10757   72806  65534  42249  74636  25556  72900   5328  18016  64140    625\n",
       "456216  63250  88234  70303  58136  52518  40418   3582  96836  84273  72493\n",
       "360963  90480  82777  80128  31386  26107  16388  83473  61440  44384  68177\n",
       "746956  43399  60569  58054  53006  34924  45201  25665   3567  95844  31571\n",
       "...       ...    ...    ...    ...    ...    ...    ...    ...    ...    ...\n",
       "959680  14250  29215  10861  18980  57325  97974  30408  96018  78092  97380\n",
       "332694  18191  92668  11898  63543  99363  80632  75220   8189  92361  97628\n",
       "597289  72129  86054  69575  86209  18046  14024  31977  68474  80349   3181\n",
       "607690  55521  55152  54001  61482   4089   2344  87842  78279  85321  35251\n",
       "615005  93066   4428  33691  70064  14478  63766  65202  67531  24088   8691\n",
       "\n",
       "[100 rows x 10 columns]"
      ]
     },
     "execution_count": 6,
     "metadata": {},
     "output_type": "execute_result"
    }
   ],
   "source": [
    "df.sample(100)"
   ]
  },
  {
   "cell_type": "code",
   "execution_count": 7,
   "metadata": {},
   "outputs": [
    {
     "data": {
      "text/html": [
       "<div>\n",
       "<style scoped>\n",
       "    .dataframe tbody tr th:only-of-type {\n",
       "        vertical-align: middle;\n",
       "    }\n",
       "\n",
       "    .dataframe tbody tr th {\n",
       "        vertical-align: top;\n",
       "    }\n",
       "\n",
       "    .dataframe thead th {\n",
       "        text-align: right;\n",
       "    }\n",
       "</style>\n",
       "<table border=\"1\" class=\"dataframe\">\n",
       "  <thead>\n",
       "    <tr style=\"text-align: right;\">\n",
       "      <th></th>\n",
       "      <th>A</th>\n",
       "      <th>B</th>\n",
       "      <th>C</th>\n",
       "      <th>D</th>\n",
       "      <th>E</th>\n",
       "      <th>F</th>\n",
       "      <th>G</th>\n",
       "      <th>H</th>\n",
       "      <th>I</th>\n",
       "      <th>J</th>\n",
       "    </tr>\n",
       "  </thead>\n",
       "  <tbody>\n",
       "    <tr>\n",
       "      <th>999900</th>\n",
       "      <td>4886</td>\n",
       "      <td>28247</td>\n",
       "      <td>54731</td>\n",
       "      <td>73983</td>\n",
       "      <td>14639</td>\n",
       "      <td>39139</td>\n",
       "      <td>42829</td>\n",
       "      <td>50893</td>\n",
       "      <td>28739</td>\n",
       "      <td>65413</td>\n",
       "    </tr>\n",
       "    <tr>\n",
       "      <th>999901</th>\n",
       "      <td>21107</td>\n",
       "      <td>60654</td>\n",
       "      <td>93966</td>\n",
       "      <td>36021</td>\n",
       "      <td>30747</td>\n",
       "      <td>21240</td>\n",
       "      <td>17249</td>\n",
       "      <td>4062</td>\n",
       "      <td>53660</td>\n",
       "      <td>84015</td>\n",
       "    </tr>\n",
       "    <tr>\n",
       "      <th>999902</th>\n",
       "      <td>99667</td>\n",
       "      <td>94004</td>\n",
       "      <td>33500</td>\n",
       "      <td>10637</td>\n",
       "      <td>35537</td>\n",
       "      <td>3830</td>\n",
       "      <td>23024</td>\n",
       "      <td>86288</td>\n",
       "      <td>74837</td>\n",
       "      <td>92869</td>\n",
       "    </tr>\n",
       "    <tr>\n",
       "      <th>999903</th>\n",
       "      <td>33344</td>\n",
       "      <td>71071</td>\n",
       "      <td>15420</td>\n",
       "      <td>78868</td>\n",
       "      <td>20834</td>\n",
       "      <td>93306</td>\n",
       "      <td>24345</td>\n",
       "      <td>10104</td>\n",
       "      <td>89898</td>\n",
       "      <td>90036</td>\n",
       "    </tr>\n",
       "    <tr>\n",
       "      <th>999904</th>\n",
       "      <td>82143</td>\n",
       "      <td>13483</td>\n",
       "      <td>22464</td>\n",
       "      <td>84</td>\n",
       "      <td>29095</td>\n",
       "      <td>31381</td>\n",
       "      <td>20483</td>\n",
       "      <td>32319</td>\n",
       "      <td>33913</td>\n",
       "      <td>73899</td>\n",
       "    </tr>\n",
       "    <tr>\n",
       "      <th>...</th>\n",
       "      <td>...</td>\n",
       "      <td>...</td>\n",
       "      <td>...</td>\n",
       "      <td>...</td>\n",
       "      <td>...</td>\n",
       "      <td>...</td>\n",
       "      <td>...</td>\n",
       "      <td>...</td>\n",
       "      <td>...</td>\n",
       "      <td>...</td>\n",
       "    </tr>\n",
       "    <tr>\n",
       "      <th>999995</th>\n",
       "      <td>52748</td>\n",
       "      <td>56380</td>\n",
       "      <td>66009</td>\n",
       "      <td>79805</td>\n",
       "      <td>85130</td>\n",
       "      <td>63036</td>\n",
       "      <td>29122</td>\n",
       "      <td>90649</td>\n",
       "      <td>95610</td>\n",
       "      <td>5462</td>\n",
       "    </tr>\n",
       "    <tr>\n",
       "      <th>999996</th>\n",
       "      <td>20349</td>\n",
       "      <td>55864</td>\n",
       "      <td>62154</td>\n",
       "      <td>9845</td>\n",
       "      <td>62332</td>\n",
       "      <td>80710</td>\n",
       "      <td>17261</td>\n",
       "      <td>17253</td>\n",
       "      <td>144</td>\n",
       "      <td>42967</td>\n",
       "    </tr>\n",
       "    <tr>\n",
       "      <th>999997</th>\n",
       "      <td>56607</td>\n",
       "      <td>73877</td>\n",
       "      <td>41039</td>\n",
       "      <td>41320</td>\n",
       "      <td>16134</td>\n",
       "      <td>40298</td>\n",
       "      <td>95938</td>\n",
       "      <td>96859</td>\n",
       "      <td>54682</td>\n",
       "      <td>50632</td>\n",
       "    </tr>\n",
       "    <tr>\n",
       "      <th>999998</th>\n",
       "      <td>77732</td>\n",
       "      <td>65486</td>\n",
       "      <td>92</td>\n",
       "      <td>89474</td>\n",
       "      <td>37599</td>\n",
       "      <td>70341</td>\n",
       "      <td>25560</td>\n",
       "      <td>87522</td>\n",
       "      <td>96846</td>\n",
       "      <td>16932</td>\n",
       "    </tr>\n",
       "    <tr>\n",
       "      <th>999999</th>\n",
       "      <td>44216</td>\n",
       "      <td>14505</td>\n",
       "      <td>81468</td>\n",
       "      <td>6918</td>\n",
       "      <td>41534</td>\n",
       "      <td>16577</td>\n",
       "      <td>34379</td>\n",
       "      <td>50893</td>\n",
       "      <td>53693</td>\n",
       "      <td>26282</td>\n",
       "    </tr>\n",
       "  </tbody>\n",
       "</table>\n",
       "<p>100 rows × 10 columns</p>\n",
       "</div>"
      ],
      "text/plain": [
       "            A      B      C      D      E      F      G      H      I      J\n",
       "999900   4886  28247  54731  73983  14639  39139  42829  50893  28739  65413\n",
       "999901  21107  60654  93966  36021  30747  21240  17249   4062  53660  84015\n",
       "999902  99667  94004  33500  10637  35537   3830  23024  86288  74837  92869\n",
       "999903  33344  71071  15420  78868  20834  93306  24345  10104  89898  90036\n",
       "999904  82143  13483  22464     84  29095  31381  20483  32319  33913  73899\n",
       "...       ...    ...    ...    ...    ...    ...    ...    ...    ...    ...\n",
       "999995  52748  56380  66009  79805  85130  63036  29122  90649  95610   5462\n",
       "999996  20349  55864  62154   9845  62332  80710  17261  17253    144  42967\n",
       "999997  56607  73877  41039  41320  16134  40298  95938  96859  54682  50632\n",
       "999998  77732  65486     92  89474  37599  70341  25560  87522  96846  16932\n",
       "999999  44216  14505  81468   6918  41534  16577  34379  50893  53693  26282\n",
       "\n",
       "[100 rows x 10 columns]"
      ]
     },
     "execution_count": 7,
     "metadata": {},
     "output_type": "execute_result"
    }
   ],
   "source": [
    "df.tail(100)"
   ]
  },
  {
   "cell_type": "code",
   "execution_count": 5,
   "metadata": {
    "ExecuteTime": {
     "end_time": "2021-05-31T09:52:50.016696Z",
     "start_time": "2021-05-31T09:52:49.955731Z"
    },
    "scrolled": true
   },
   "outputs": [
    {
     "data": {
      "text/html": [
       "<div>\n",
       "<style scoped>\n",
       "    .dataframe tbody tr th:only-of-type {\n",
       "        vertical-align: middle;\n",
       "    }\n",
       "\n",
       "    .dataframe tbody tr th {\n",
       "        vertical-align: top;\n",
       "    }\n",
       "\n",
       "    .dataframe thead th {\n",
       "        text-align: right;\n",
       "    }\n",
       "</style>\n",
       "<table border=\"1\" class=\"dataframe\">\n",
       "  <thead>\n",
       "    <tr style=\"text-align: right;\">\n",
       "      <th></th>\n",
       "      <th>A</th>\n",
       "      <th>B</th>\n",
       "      <th>C</th>\n",
       "      <th>D</th>\n",
       "      <th>E</th>\n",
       "      <th>F</th>\n",
       "      <th>G</th>\n",
       "      <th>H</th>\n",
       "      <th>I</th>\n",
       "      <th>J</th>\n",
       "    </tr>\n",
       "  </thead>\n",
       "  <tbody>\n",
       "    <tr>\n",
       "      <th>617759</th>\n",
       "      <td>34165</td>\n",
       "      <td>23117</td>\n",
       "      <td>42931</td>\n",
       "      <td>45091</td>\n",
       "      <td>91797</td>\n",
       "      <td>46403</td>\n",
       "      <td>2051</td>\n",
       "      <td>45579</td>\n",
       "      <td>85561</td>\n",
       "      <td>92241</td>\n",
       "    </tr>\n",
       "    <tr>\n",
       "      <th>693227</th>\n",
       "      <td>73611</td>\n",
       "      <td>21272</td>\n",
       "      <td>67389</td>\n",
       "      <td>9813</td>\n",
       "      <td>67897</td>\n",
       "      <td>76994</td>\n",
       "      <td>36274</td>\n",
       "      <td>92721</td>\n",
       "      <td>75678</td>\n",
       "      <td>56319</td>\n",
       "    </tr>\n",
       "    <tr>\n",
       "      <th>906065</th>\n",
       "      <td>64734</td>\n",
       "      <td>35042</td>\n",
       "      <td>38343</td>\n",
       "      <td>13812</td>\n",
       "      <td>47513</td>\n",
       "      <td>17630</td>\n",
       "      <td>27069</td>\n",
       "      <td>44071</td>\n",
       "      <td>30642</td>\n",
       "      <td>80946</td>\n",
       "    </tr>\n",
       "    <tr>\n",
       "      <th>828507</th>\n",
       "      <td>54185</td>\n",
       "      <td>53365</td>\n",
       "      <td>91452</td>\n",
       "      <td>27365</td>\n",
       "      <td>65031</td>\n",
       "      <td>31154</td>\n",
       "      <td>9296</td>\n",
       "      <td>41096</td>\n",
       "      <td>50541</td>\n",
       "      <td>80297</td>\n",
       "    </tr>\n",
       "    <tr>\n",
       "      <th>869730</th>\n",
       "      <td>38731</td>\n",
       "      <td>85001</td>\n",
       "      <td>48251</td>\n",
       "      <td>68688</td>\n",
       "      <td>13427</td>\n",
       "      <td>69071</td>\n",
       "      <td>49551</td>\n",
       "      <td>61835</td>\n",
       "      <td>34226</td>\n",
       "      <td>3337</td>\n",
       "    </tr>\n",
       "    <tr>\n",
       "      <th>147081</th>\n",
       "      <td>5107</td>\n",
       "      <td>90726</td>\n",
       "      <td>74696</td>\n",
       "      <td>11561</td>\n",
       "      <td>96358</td>\n",
       "      <td>80470</td>\n",
       "      <td>1795</td>\n",
       "      <td>2934</td>\n",
       "      <td>21132</td>\n",
       "      <td>21890</td>\n",
       "    </tr>\n",
       "    <tr>\n",
       "      <th>779428</th>\n",
       "      <td>4691</td>\n",
       "      <td>63288</td>\n",
       "      <td>2540</td>\n",
       "      <td>21426</td>\n",
       "      <td>96897</td>\n",
       "      <td>54311</td>\n",
       "      <td>12075</td>\n",
       "      <td>23871</td>\n",
       "      <td>80518</td>\n",
       "      <td>29788</td>\n",
       "    </tr>\n",
       "    <tr>\n",
       "      <th>485973</th>\n",
       "      <td>93095</td>\n",
       "      <td>78651</td>\n",
       "      <td>35613</td>\n",
       "      <td>28087</td>\n",
       "      <td>18263</td>\n",
       "      <td>70783</td>\n",
       "      <td>36353</td>\n",
       "      <td>46115</td>\n",
       "      <td>56042</td>\n",
       "      <td>94043</td>\n",
       "    </tr>\n",
       "    <tr>\n",
       "      <th>30697</th>\n",
       "      <td>53106</td>\n",
       "      <td>73561</td>\n",
       "      <td>96412</td>\n",
       "      <td>62072</td>\n",
       "      <td>38331</td>\n",
       "      <td>81111</td>\n",
       "      <td>87100</td>\n",
       "      <td>37520</td>\n",
       "      <td>29218</td>\n",
       "      <td>13557</td>\n",
       "    </tr>\n",
       "    <tr>\n",
       "      <th>306669</th>\n",
       "      <td>12791</td>\n",
       "      <td>61511</td>\n",
       "      <td>64354</td>\n",
       "      <td>93579</td>\n",
       "      <td>47361</td>\n",
       "      <td>19716</td>\n",
       "      <td>15778</td>\n",
       "      <td>51683</td>\n",
       "      <td>51399</td>\n",
       "      <td>78594</td>\n",
       "    </tr>\n",
       "  </tbody>\n",
       "</table>\n",
       "</div>"
      ],
      "text/plain": [
       "            A      B      C      D      E      F      G      H      I      J\n",
       "617759  34165  23117  42931  45091  91797  46403   2051  45579  85561  92241\n",
       "693227  73611  21272  67389   9813  67897  76994  36274  92721  75678  56319\n",
       "906065  64734  35042  38343  13812  47513  17630  27069  44071  30642  80946\n",
       "828507  54185  53365  91452  27365  65031  31154   9296  41096  50541  80297\n",
       "869730  38731  85001  48251  68688  13427  69071  49551  61835  34226   3337\n",
       "147081   5107  90726  74696  11561  96358  80470   1795   2934  21132  21890\n",
       "779428   4691  63288   2540  21426  96897  54311  12075  23871  80518  29788\n",
       "485973  93095  78651  35613  28087  18263  70783  36353  46115  56042  94043\n",
       "30697   53106  73561  96412  62072  38331  81111  87100  37520  29218  13557\n",
       "306669  12791  61511  64354  93579  47361  19716  15778  51683  51399  78594"
      ]
     },
     "execution_count": 5,
     "metadata": {},
     "output_type": "execute_result"
    }
   ],
   "source": [
    "df.sample(10, random_state=100)"
   ]
  },
  {
   "cell_type": "code",
   "execution_count": 16,
   "metadata": {
    "ExecuteTime": {
     "end_time": "2021-05-31T09:53:12.039004Z",
     "start_time": "2021-05-31T09:53:11.970040Z"
    },
    "scrolled": false
   },
   "outputs": [
    {
     "data": {
      "text/html": [
       "<div>\n",
       "<style scoped>\n",
       "    .dataframe tbody tr th:only-of-type {\n",
       "        vertical-align: middle;\n",
       "    }\n",
       "\n",
       "    .dataframe tbody tr th {\n",
       "        vertical-align: top;\n",
       "    }\n",
       "\n",
       "    .dataframe thead th {\n",
       "        text-align: right;\n",
       "    }\n",
       "</style>\n",
       "<table border=\"1\" class=\"dataframe\">\n",
       "  <thead>\n",
       "    <tr style=\"text-align: right;\">\n",
       "      <th></th>\n",
       "      <th>A</th>\n",
       "      <th>B</th>\n",
       "      <th>C</th>\n",
       "      <th>D</th>\n",
       "      <th>E</th>\n",
       "      <th>F</th>\n",
       "      <th>G</th>\n",
       "      <th>H</th>\n",
       "      <th>I</th>\n",
       "      <th>J</th>\n",
       "    </tr>\n",
       "  </thead>\n",
       "  <tbody>\n",
       "    <tr>\n",
       "      <th>617759</th>\n",
       "      <td>34165</td>\n",
       "      <td>23117</td>\n",
       "      <td>42931</td>\n",
       "      <td>45091</td>\n",
       "      <td>91797</td>\n",
       "      <td>46403</td>\n",
       "      <td>2051</td>\n",
       "      <td>45579</td>\n",
       "      <td>85561</td>\n",
       "      <td>92241</td>\n",
       "    </tr>\n",
       "    <tr>\n",
       "      <th>693227</th>\n",
       "      <td>73611</td>\n",
       "      <td>21272</td>\n",
       "      <td>67389</td>\n",
       "      <td>9813</td>\n",
       "      <td>67897</td>\n",
       "      <td>76994</td>\n",
       "      <td>36274</td>\n",
       "      <td>92721</td>\n",
       "      <td>75678</td>\n",
       "      <td>56319</td>\n",
       "    </tr>\n",
       "    <tr>\n",
       "      <th>906065</th>\n",
       "      <td>64734</td>\n",
       "      <td>35042</td>\n",
       "      <td>38343</td>\n",
       "      <td>13812</td>\n",
       "      <td>47513</td>\n",
       "      <td>17630</td>\n",
       "      <td>27069</td>\n",
       "      <td>44071</td>\n",
       "      <td>30642</td>\n",
       "      <td>80946</td>\n",
       "    </tr>\n",
       "    <tr>\n",
       "      <th>828507</th>\n",
       "      <td>54185</td>\n",
       "      <td>53365</td>\n",
       "      <td>91452</td>\n",
       "      <td>27365</td>\n",
       "      <td>65031</td>\n",
       "      <td>31154</td>\n",
       "      <td>9296</td>\n",
       "      <td>41096</td>\n",
       "      <td>50541</td>\n",
       "      <td>80297</td>\n",
       "    </tr>\n",
       "    <tr>\n",
       "      <th>869730</th>\n",
       "      <td>38731</td>\n",
       "      <td>85001</td>\n",
       "      <td>48251</td>\n",
       "      <td>68688</td>\n",
       "      <td>13427</td>\n",
       "      <td>69071</td>\n",
       "      <td>49551</td>\n",
       "      <td>61835</td>\n",
       "      <td>34226</td>\n",
       "      <td>3337</td>\n",
       "    </tr>\n",
       "    <tr>\n",
       "      <th>...</th>\n",
       "      <td>...</td>\n",
       "      <td>...</td>\n",
       "      <td>...</td>\n",
       "      <td>...</td>\n",
       "      <td>...</td>\n",
       "      <td>...</td>\n",
       "      <td>...</td>\n",
       "      <td>...</td>\n",
       "      <td>...</td>\n",
       "      <td>...</td>\n",
       "    </tr>\n",
       "    <tr>\n",
       "      <th>599633</th>\n",
       "      <td>83653</td>\n",
       "      <td>67970</td>\n",
       "      <td>89139</td>\n",
       "      <td>47375</td>\n",
       "      <td>39215</td>\n",
       "      <td>61552</td>\n",
       "      <td>66493</td>\n",
       "      <td>70250</td>\n",
       "      <td>52700</td>\n",
       "      <td>90208</td>\n",
       "    </tr>\n",
       "    <tr>\n",
       "      <th>103907</th>\n",
       "      <td>92988</td>\n",
       "      <td>47267</td>\n",
       "      <td>72817</td>\n",
       "      <td>7743</td>\n",
       "      <td>74428</td>\n",
       "      <td>21514</td>\n",
       "      <td>15874</td>\n",
       "      <td>92764</td>\n",
       "      <td>31275</td>\n",
       "      <td>16218</td>\n",
       "    </tr>\n",
       "    <tr>\n",
       "      <th>536846</th>\n",
       "      <td>90063</td>\n",
       "      <td>81490</td>\n",
       "      <td>24760</td>\n",
       "      <td>74015</td>\n",
       "      <td>52577</td>\n",
       "      <td>53487</td>\n",
       "      <td>1410</td>\n",
       "      <td>79308</td>\n",
       "      <td>55705</td>\n",
       "      <td>19774</td>\n",
       "    </tr>\n",
       "    <tr>\n",
       "      <th>68354</th>\n",
       "      <td>18196</td>\n",
       "      <td>16852</td>\n",
       "      <td>55297</td>\n",
       "      <td>75135</td>\n",
       "      <td>36739</td>\n",
       "      <td>83869</td>\n",
       "      <td>60700</td>\n",
       "      <td>58143</td>\n",
       "      <td>91774</td>\n",
       "      <td>27770</td>\n",
       "    </tr>\n",
       "    <tr>\n",
       "      <th>762302</th>\n",
       "      <td>868</td>\n",
       "      <td>43644</td>\n",
       "      <td>4323</td>\n",
       "      <td>7960</td>\n",
       "      <td>9050</td>\n",
       "      <td>77914</td>\n",
       "      <td>45517</td>\n",
       "      <td>35498</td>\n",
       "      <td>24101</td>\n",
       "      <td>49902</td>\n",
       "    </tr>\n",
       "  </tbody>\n",
       "</table>\n",
       "<p>100000 rows × 10 columns</p>\n",
       "</div>"
      ],
      "text/plain": [
       "            A      B      C      D      E      F      G      H      I      J\n",
       "617759  34165  23117  42931  45091  91797  46403   2051  45579  85561  92241\n",
       "693227  73611  21272  67389   9813  67897  76994  36274  92721  75678  56319\n",
       "906065  64734  35042  38343  13812  47513  17630  27069  44071  30642  80946\n",
       "828507  54185  53365  91452  27365  65031  31154   9296  41096  50541  80297\n",
       "869730  38731  85001  48251  68688  13427  69071  49551  61835  34226   3337\n",
       "...       ...    ...    ...    ...    ...    ...    ...    ...    ...    ...\n",
       "599633  83653  67970  89139  47375  39215  61552  66493  70250  52700  90208\n",
       "103907  92988  47267  72817   7743  74428  21514  15874  92764  31275  16218\n",
       "536846  90063  81490  24760  74015  52577  53487   1410  79308  55705  19774\n",
       "68354   18196  16852  55297  75135  36739  83869  60700  58143  91774  27770\n",
       "762302    868  43644   4323   7960   9050  77914  45517  35498  24101  49902\n",
       "\n",
       "[100000 rows x 10 columns]"
      ]
     },
     "execution_count": 16,
     "metadata": {},
     "output_type": "execute_result"
    }
   ],
   "source": [
    "df.sample(frac=0.1, random_state=100)"
   ]
  },
  {
   "cell_type": "markdown",
   "metadata": {},
   "source": [
    "# 4. Manipulação de strings - métodos <a name=\"strings\"></a>\n",
    "<div style=\"text-align: right\"\n",
    "     \n",
    "[Voltar ao índice](#Contents)"
   ]
  },
  {
   "cell_type": "code",
   "execution_count": 58,
   "metadata": {
    "ExecuteTime": {
     "end_time": "2021-05-31T10:15:36.733921Z",
     "start_time": "2021-05-31T10:15:36.725926Z"
    }
   },
   "outputs": [],
   "source": [
    "texto = 'texto'"
   ]
  },
  {
   "cell_type": "code",
   "execution_count": 59,
   "metadata": {
    "ExecuteTime": {
     "end_time": "2021-05-31T10:15:41.550985Z",
     "start_time": "2021-05-31T10:15:41.536019Z"
    }
   },
   "outputs": [
    {
     "data": {
      "text/plain": [
       "'otxet'"
      ]
     },
     "execution_count": 59,
     "metadata": {},
     "output_type": "execute_result"
    }
   ],
   "source": [
    "texto[::-1]"
   ]
  },
  {
   "cell_type": "code",
   "execution_count": 64,
   "metadata": {
    "ExecuteTime": {
     "end_time": "2021-05-31T10:19:25.536743Z",
     "start_time": "2021-05-31T10:19:25.522752Z"
    }
   },
   "outputs": [],
   "source": [
    "palindromo = 'apos a sopa'"
   ]
  },
  {
   "cell_type": "code",
   "execution_count": 65,
   "metadata": {
    "ExecuteTime": {
     "end_time": "2021-05-31T10:19:26.240953Z",
     "start_time": "2021-05-31T10:19:26.225962Z"
    }
   },
   "outputs": [
    {
     "data": {
      "text/plain": [
       "'apos a sopa'"
      ]
     },
     "execution_count": 65,
     "metadata": {},
     "output_type": "execute_result"
    }
   ],
   "source": [
    "palindromo[::-1]"
   ]
  },
  {
   "cell_type": "code",
   "execution_count": 67,
   "metadata": {
    "ExecuteTime": {
     "end_time": "2021-06-01T09:56:36.677981Z",
     "start_time": "2021-06-01T09:56:36.662980Z"
    }
   },
   "outputs": [
    {
     "data": {
      "text/plain": [
       "'Texto'"
      ]
     },
     "execution_count": 67,
     "metadata": {},
     "output_type": "execute_result"
    }
   ],
   "source": [
    "texto = 'teXTO'\n",
    "texto.capitalize()"
   ]
  },
  {
   "cell_type": "code",
   "execution_count": 68,
   "metadata": {
    "ExecuteTime": {
     "end_time": "2021-06-01T09:56:49.873292Z",
     "start_time": "2021-06-01T09:56:49.864296Z"
    }
   },
   "outputs": [
    {
     "data": {
      "text/plain": [
       "'texto'"
      ]
     },
     "execution_count": 68,
     "metadata": {},
     "output_type": "execute_result"
    }
   ],
   "source": [
    "texto.lower()"
   ]
  },
  {
   "cell_type": "code",
   "execution_count": 70,
   "metadata": {
    "ExecuteTime": {
     "end_time": "2021-06-01T09:59:28.909681Z",
     "start_time": "2021-06-01T09:59:28.895687Z"
    }
   },
   "outputs": [
    {
     "data": {
      "text/plain": [
       "'TEXTO'"
      ]
     },
     "execution_count": 70,
     "metadata": {},
     "output_type": "execute_result"
    }
   ],
   "source": [
    "texto.upper()"
   ]
  },
  {
   "cell_type": "code",
   "execution_count": 75,
   "metadata": {
    "ExecuteTime": {
     "end_time": "2021-06-01T10:02:02.244478Z",
     "start_time": "2021-06-01T10:02:02.231486Z"
    }
   },
   "outputs": [
    {
     "data": {
      "text/plain": [
       "2"
      ]
     },
     "execution_count": 75,
     "metadata": {},
     "output_type": "execute_result"
    }
   ],
   "source": [
    "# S.find(sub[, start[, end]]) -> int\n",
    "texto.find('X')"
   ]
  },
  {
   "cell_type": "code",
   "execution_count": 78,
   "metadata": {
    "ExecuteTime": {
     "end_time": "2021-06-01T10:16:22.092756Z",
     "start_time": "2021-06-01T10:16:22.076776Z"
    }
   },
   "outputs": [
    {
     "data": {
      "text/plain": [
       "'X'"
      ]
     },
     "execution_count": 78,
     "metadata": {},
     "output_type": "execute_result"
    }
   ],
   "source": [
    "texto[2]"
   ]
  },
  {
   "cell_type": "code",
   "execution_count": 76,
   "metadata": {
    "ExecuteTime": {
     "end_time": "2021-06-01T10:02:03.055975Z",
     "start_time": "2021-06-01T10:02:03.038984Z"
    }
   },
   "outputs": [
    {
     "data": {
      "text/plain": [
       "-1"
      ]
     },
     "execution_count": 76,
     "metadata": {},
     "output_type": "execute_result"
    }
   ],
   "source": [
    "#S.find(sub[, start[, end]]) -> int\n",
    "texto.find('x')"
   ]
  },
  {
   "cell_type": "code",
   "execution_count": 77,
   "metadata": {
    "ExecuteTime": {
     "end_time": "2021-06-01T10:07:22.993769Z",
     "start_time": "2021-06-01T10:07:22.976796Z"
    }
   },
   "outputs": [
    {
     "data": {
      "text/plain": [
       "'testa'"
      ]
     },
     "execution_count": 77,
     "metadata": {},
     "output_type": "execute_result"
    }
   ],
   "source": [
    "#texto.replace(antigo, novo)\n",
    "texto.replace('XTO','sta')"
   ]
  },
  {
   "cell_type": "code",
   "execution_count": null,
   "metadata": {},
   "outputs": [],
   "source": []
  },
  {
   "cell_type": "code",
   "execution_count": null,
   "metadata": {},
   "outputs": [],
   "source": []
  }
 ],
 "metadata": {
  "kernelspec": {
   "display_name": "Python 3 (ipykernel)",
   "language": "python",
   "name": "python3"
  },
  "language_info": {
   "codemirror_mode": {
    "name": "ipython",
    "version": 3
   },
   "file_extension": ".py",
   "mimetype": "text/x-python",
   "name": "python",
   "nbconvert_exporter": "python",
   "pygments_lexer": "ipython3",
   "version": "3.9.13"
  },
  "varInspector": {
   "cols": {
    "lenName": 16,
    "lenType": 16,
    "lenVar": 40
   },
   "kernels_config": {
    "python": {
     "delete_cmd_postfix": "",
     "delete_cmd_prefix": "del ",
     "library": "var_list.py",
     "varRefreshCmd": "print(var_dic_list())"
    },
    "r": {
     "delete_cmd_postfix": ") ",
     "delete_cmd_prefix": "rm(",
     "library": "var_list.r",
     "varRefreshCmd": "cat(var_dic_list()) "
    }
   },
   "types_to_exclude": [
    "module",
    "function",
    "builtin_function_or_method",
    "instance",
    "_Feature"
   ],
   "window_display": false
  }
 },
 "nbformat": 4,
 "nbformat_minor": 4
}
