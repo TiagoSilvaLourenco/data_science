{
 "cells": [
  {
   "cell_type": "markdown",
   "metadata": {},
   "source": [
    "# Livro para consulta:\n",
    "- https://jakevdp.github.io/PythonDataScienceHandbook/03.08-aggregation-and-grouping.html\n",
    "- https://jakevdp.github.io/PythonDataScienceHandbook/03.09-pivot-tables.html\n",
    "    "
   ]
  },
  {
   "cell_type": "markdown",
   "metadata": {},
   "source": [
    "# 1. Importando bibliotecas <a name=\"import\"></a>\n",
    "\n",
    "<div style=\"text-align: right\"\n",
    "     \n",
    "[Voltar ao índice](#Contents)"
   ]
  },
  {
   "cell_type": "code",
   "execution_count": 1,
   "metadata": {
    "ExecuteTime": {
     "end_time": "2021-06-06T21:12:37.298706Z",
     "start_time": "2021-06-06T21:12:36.656481Z"
    }
   },
   "outputs": [],
   "source": [
    "import numpy as np\n",
    "import pandas as pd\n",
    "import seaborn as sns\n",
    "import matplotlib.pyplot as plt\n",
    "\n",
    "%matplotlib inline"
   ]
  },
  {
   "cell_type": "markdown",
   "metadata": {},
   "source": [
    "# 2. Carregando o dataframe SINASC <a name=\"read\"></a>\n",
    "<div style=\"text-align: right\"\n",
    "     \n",
    "[Voltar ao índice](#Contents)"
   ]
  },
  {
   "cell_type": "code",
   "execution_count": 2,
   "metadata": {
    "ExecuteTime": {
     "end_time": "2021-06-06T21:12:37.762376Z",
     "start_time": "2021-06-06T21:12:37.728383Z"
    },
    "scrolled": true
   },
   "outputs": [
    {
     "data": {
      "text/html": [
       "<div>\n",
       "<style scoped>\n",
       "    .dataframe tbody tr th:only-of-type {\n",
       "        vertical-align: middle;\n",
       "    }\n",
       "\n",
       "    .dataframe tbody tr th {\n",
       "        vertical-align: top;\n",
       "    }\n",
       "\n",
       "    .dataframe thead th {\n",
       "        text-align: right;\n",
       "    }\n",
       "</style>\n",
       "<table border=\"1\" class=\"dataframe\">\n",
       "  <thead>\n",
       "    <tr style=\"text-align: right;\">\n",
       "      <th></th>\n",
       "      <th>ORIGEM</th>\n",
       "      <th>CODESTAB</th>\n",
       "      <th>CODMUNNASC</th>\n",
       "      <th>LOCNASC</th>\n",
       "      <th>IDADEMAE</th>\n",
       "      <th>ESTCIVMAE</th>\n",
       "      <th>ESCMAE</th>\n",
       "      <th>CODOCUPMAE</th>\n",
       "      <th>QTDFILVIVO</th>\n",
       "      <th>QTDFILMORT</th>\n",
       "      <th>...</th>\n",
       "      <th>KOTELCHUCK</th>\n",
       "      <th>CONTADOR</th>\n",
       "      <th>munResStatus</th>\n",
       "      <th>munResTipo</th>\n",
       "      <th>munResNome</th>\n",
       "      <th>munResUf</th>\n",
       "      <th>munResLat</th>\n",
       "      <th>munResLon</th>\n",
       "      <th>munResAlt</th>\n",
       "      <th>munResArea</th>\n",
       "    </tr>\n",
       "  </thead>\n",
       "  <tbody>\n",
       "    <tr>\n",
       "      <th>0</th>\n",
       "      <td>1</td>\n",
       "      <td>2679477.0</td>\n",
       "      <td>110001</td>\n",
       "      <td>1</td>\n",
       "      <td>19</td>\n",
       "      <td>5.0</td>\n",
       "      <td>8 a 11 anos</td>\n",
       "      <td>NaN</td>\n",
       "      <td>0.0</td>\n",
       "      <td>0.0</td>\n",
       "      <td>...</td>\n",
       "      <td>5</td>\n",
       "      <td>1</td>\n",
       "      <td>ATIVO</td>\n",
       "      <td>MUNIC</td>\n",
       "      <td>Alta Floresta D'Oeste</td>\n",
       "      <td>Rondônia</td>\n",
       "      <td>-11.93554</td>\n",
       "      <td>-61.99982</td>\n",
       "      <td>338.0</td>\n",
       "      <td>7067.025</td>\n",
       "    </tr>\n",
       "    <tr>\n",
       "      <th>1</th>\n",
       "      <td>1</td>\n",
       "      <td>2679477.0</td>\n",
       "      <td>110001</td>\n",
       "      <td>1</td>\n",
       "      <td>29</td>\n",
       "      <td>2.0</td>\n",
       "      <td>8 a 11 anos</td>\n",
       "      <td>999992.0</td>\n",
       "      <td>1.0</td>\n",
       "      <td>0.0</td>\n",
       "      <td>...</td>\n",
       "      <td>5</td>\n",
       "      <td>2</td>\n",
       "      <td>ATIVO</td>\n",
       "      <td>MUNIC</td>\n",
       "      <td>Alta Floresta D'Oeste</td>\n",
       "      <td>Rondônia</td>\n",
       "      <td>-11.93554</td>\n",
       "      <td>-61.99982</td>\n",
       "      <td>338.0</td>\n",
       "      <td>7067.025</td>\n",
       "    </tr>\n",
       "    <tr>\n",
       "      <th>2</th>\n",
       "      <td>1</td>\n",
       "      <td>2679477.0</td>\n",
       "      <td>110001</td>\n",
       "      <td>1</td>\n",
       "      <td>37</td>\n",
       "      <td>9.0</td>\n",
       "      <td>8 a 11 anos</td>\n",
       "      <td>513205.0</td>\n",
       "      <td>2.0</td>\n",
       "      <td>0.0</td>\n",
       "      <td>...</td>\n",
       "      <td>5</td>\n",
       "      <td>3</td>\n",
       "      <td>ATIVO</td>\n",
       "      <td>MUNIC</td>\n",
       "      <td>Alta Floresta D'Oeste</td>\n",
       "      <td>Rondônia</td>\n",
       "      <td>-11.93554</td>\n",
       "      <td>-61.99982</td>\n",
       "      <td>338.0</td>\n",
       "      <td>7067.025</td>\n",
       "    </tr>\n",
       "    <tr>\n",
       "      <th>3</th>\n",
       "      <td>1</td>\n",
       "      <td>2516500.0</td>\n",
       "      <td>110001</td>\n",
       "      <td>1</td>\n",
       "      <td>30</td>\n",
       "      <td>5.0</td>\n",
       "      <td>12 anos ou mais</td>\n",
       "      <td>231205.0</td>\n",
       "      <td>0.0</td>\n",
       "      <td>0.0</td>\n",
       "      <td>...</td>\n",
       "      <td>4</td>\n",
       "      <td>4</td>\n",
       "      <td>ATIVO</td>\n",
       "      <td>MUNIC</td>\n",
       "      <td>Alto Alegre dos Parecis</td>\n",
       "      <td>Rondônia</td>\n",
       "      <td>-12.13178</td>\n",
       "      <td>-61.85308</td>\n",
       "      <td>397.0</td>\n",
       "      <td>3958.273</td>\n",
       "    </tr>\n",
       "    <tr>\n",
       "      <th>4</th>\n",
       "      <td>1</td>\n",
       "      <td>2516500.0</td>\n",
       "      <td>110001</td>\n",
       "      <td>1</td>\n",
       "      <td>30</td>\n",
       "      <td>2.0</td>\n",
       "      <td>8 a 11 anos</td>\n",
       "      <td>999992.0</td>\n",
       "      <td>1.0</td>\n",
       "      <td>0.0</td>\n",
       "      <td>...</td>\n",
       "      <td>5</td>\n",
       "      <td>5</td>\n",
       "      <td>ATIVO</td>\n",
       "      <td>MUNIC</td>\n",
       "      <td>Alta Floresta D'Oeste</td>\n",
       "      <td>Rondônia</td>\n",
       "      <td>-11.93554</td>\n",
       "      <td>-61.99982</td>\n",
       "      <td>338.0</td>\n",
       "      <td>7067.025</td>\n",
       "    </tr>\n",
       "  </tbody>\n",
       "</table>\n",
       "<p>5 rows × 69 columns</p>\n",
       "</div>"
      ],
      "text/plain": [
       "   ORIGEM   CODESTAB  CODMUNNASC  LOCNASC  IDADEMAE  ESTCIVMAE  \\\n",
       "0       1  2679477.0      110001        1        19        5.0   \n",
       "1       1  2679477.0      110001        1        29        2.0   \n",
       "2       1  2679477.0      110001        1        37        9.0   \n",
       "3       1  2516500.0      110001        1        30        5.0   \n",
       "4       1  2516500.0      110001        1        30        2.0   \n",
       "\n",
       "            ESCMAE  CODOCUPMAE  QTDFILVIVO  QTDFILMORT  ...  KOTELCHUCK  \\\n",
       "0      8 a 11 anos         NaN         0.0         0.0  ...           5   \n",
       "1      8 a 11 anos    999992.0         1.0         0.0  ...           5   \n",
       "2      8 a 11 anos    513205.0         2.0         0.0  ...           5   \n",
       "3  12 anos ou mais    231205.0         0.0         0.0  ...           4   \n",
       "4      8 a 11 anos    999992.0         1.0         0.0  ...           5   \n",
       "\n",
       "  CONTADOR munResStatus munResTipo               munResNome  munResUf  \\\n",
       "0        1        ATIVO      MUNIC    Alta Floresta D'Oeste  Rondônia   \n",
       "1        2        ATIVO      MUNIC    Alta Floresta D'Oeste  Rondônia   \n",
       "2        3        ATIVO      MUNIC    Alta Floresta D'Oeste  Rondônia   \n",
       "3        4        ATIVO      MUNIC  Alto Alegre dos Parecis  Rondônia   \n",
       "4        5        ATIVO      MUNIC    Alta Floresta D'Oeste  Rondônia   \n",
       "\n",
       "   munResLat munResLon  munResAlt  munResArea  \n",
       "0  -11.93554 -61.99982      338.0    7067.025  \n",
       "1  -11.93554 -61.99982      338.0    7067.025  \n",
       "2  -11.93554 -61.99982      338.0    7067.025  \n",
       "3  -12.13178 -61.85308      397.0    3958.273  \n",
       "4  -11.93554 -61.99982      338.0    7067.025  \n",
       "\n",
       "[5 rows x 69 columns]"
      ]
     },
     "execution_count": 2,
     "metadata": {},
     "output_type": "execute_result"
    }
   ],
   "source": [
    "sinasc_raw = pd.read_csv('../SINASC_RO_2019.csv')\n",
    "sinasc_raw.head()"
   ]
  },
  {
   "cell_type": "markdown",
   "metadata": {},
   "source": [
    "# Tarefa 2"
   ]
  },
  {
   "cell_type": "markdown",
   "metadata": {},
   "source": [
    "### 1. Crie 2 faixas de Latitude do município (munResLat) sendo uma acima e outra abaixo de -10.5 e aplique o groupby usando essas faixas como chave e realize operações de soma, media, minimo, maximo, mediana, desvio padrao, variancia pra pelo menos 2 variáveis numéricas ainda não utilizadas"
   ]
  },
  {
   "cell_type": "code",
   "execution_count": 3,
   "metadata": {},
   "outputs": [
    {
     "data": {
      "text/plain": [
       "array([ -8.76889,  -8.78502,  -9.19187,  -9.37819,  -9.42556,  -9.70554,\n",
       "        -9.71667,  -9.85139,  -9.90846, -10.20981, -10.24873, -10.2631 ,\n",
       "       -10.33887, -10.41177, -10.43105, -10.43595, -10.56842, -10.61207,\n",
       "       -10.72357, -10.77388, -10.88205, -10.91553, -10.93217, -11.04561,\n",
       "       -11.12855, -11.17321, -11.19624, -11.34413, -11.42684, -11.43387,\n",
       "       -11.52855, -11.67754, -11.69949, -11.70974, -11.72133, -11.72226,\n",
       "       -11.76712, -11.82571, -11.90842, -11.91439, -11.93554, -12.0638 ,\n",
       "       -12.13178, -12.17983, -12.43601, -12.55684, -12.74137, -12.99752,\n",
       "       -13.13056, -13.19503, -13.47656, -13.49976,       nan])"
      ]
     },
     "execution_count": 3,
     "metadata": {},
     "output_type": "execute_result"
    }
   ],
   "source": [
    "sinasc_raw.munResLat.sort_values(ascending=False).unique()"
   ]
  },
  {
   "cell_type": "code",
   "execution_count": 4,
   "metadata": {},
   "outputs": [
    {
     "data": {
      "text/plain": [
       "0        11.93554\n",
       "1        11.93554\n",
       "2        11.93554\n",
       "3        12.13178\n",
       "4        11.93554\n",
       "           ...   \n",
       "27023    12.74137\n",
       "27024    12.55684\n",
       "27025    12.74137\n",
       "27026    12.74137\n",
       "27027    11.70974\n",
       "Name: munResLat, Length: 27028, dtype: float64"
      ]
     },
     "execution_count": 4,
     "metadata": {},
     "output_type": "execute_result"
    }
   ],
   "source": [
    "sinasc2 = sinasc_raw.copy()\n",
    "\n",
    "sinasc2.munResLat = abs(sinasc2.munResLat)\n",
    "sinasc2.munResLat"
   ]
  },
  {
   "cell_type": "code",
   "execution_count": 22,
   "metadata": {},
   "outputs": [
    {
     "data": {
      "text/plain": [
       "0        (10.5, 13.5]\n",
       "1        (10.5, 13.5]\n",
       "2        (10.5, 13.5]\n",
       "3        (10.5, 13.5]\n",
       "4        (10.5, 13.5]\n",
       "             ...     \n",
       "27023    (10.5, 13.5]\n",
       "27024    (10.5, 13.5]\n",
       "27025    (10.5, 13.5]\n",
       "27026    (10.5, 13.5]\n",
       "27027    (10.5, 13.5]\n",
       "Name: munResLat, Length: 27028, dtype: category\n",
       "Categories (2, interval[float64, right]): [(8.0, 10.5] < (10.5, 13.5]]"
      ]
     },
     "execution_count": 22,
     "metadata": {},
     "output_type": "execute_result"
    }
   ],
   "source": [
    "munResLat = pd.cut(sinasc2['munResLat'], [8, 10.5, 13.5])\n",
    "munResLat"
   ]
  },
  {
   "cell_type": "code",
   "execution_count": 39,
   "metadata": {},
   "outputs": [
    {
     "name": "stderr",
     "output_type": "stream",
     "text": [
      "/tmp/ipykernel_35288/4234653215.py:1: FutureWarning: Indexing with multiple keys (implicitly converted to a tuple of keys) will be deprecated, use a list instead.\n",
      "  sinasc2.groupby(munResLat)['QTDPARTNOR', 'QTDPARTCES'].describe()\n"
     ]
    },
    {
     "data": {
      "text/html": [
       "<div>\n",
       "<style scoped>\n",
       "    .dataframe tbody tr th:only-of-type {\n",
       "        vertical-align: middle;\n",
       "    }\n",
       "\n",
       "    .dataframe tbody tr th {\n",
       "        vertical-align: top;\n",
       "    }\n",
       "\n",
       "    .dataframe thead tr th {\n",
       "        text-align: left;\n",
       "    }\n",
       "\n",
       "    .dataframe thead tr:last-of-type th {\n",
       "        text-align: right;\n",
       "    }\n",
       "</style>\n",
       "<table border=\"1\" class=\"dataframe\">\n",
       "  <thead>\n",
       "    <tr>\n",
       "      <th></th>\n",
       "      <th colspan=\"8\" halign=\"left\">QTDPARTNOR</th>\n",
       "      <th colspan=\"8\" halign=\"left\">QTDPARTCES</th>\n",
       "    </tr>\n",
       "    <tr>\n",
       "      <th></th>\n",
       "      <th>count</th>\n",
       "      <th>mean</th>\n",
       "      <th>std</th>\n",
       "      <th>min</th>\n",
       "      <th>25%</th>\n",
       "      <th>50%</th>\n",
       "      <th>75%</th>\n",
       "      <th>max</th>\n",
       "      <th>count</th>\n",
       "      <th>mean</th>\n",
       "      <th>std</th>\n",
       "      <th>min</th>\n",
       "      <th>25%</th>\n",
       "      <th>50%</th>\n",
       "      <th>75%</th>\n",
       "      <th>max</th>\n",
       "    </tr>\n",
       "    <tr>\n",
       "      <th>munResLat</th>\n",
       "      <th></th>\n",
       "      <th></th>\n",
       "      <th></th>\n",
       "      <th></th>\n",
       "      <th></th>\n",
       "      <th></th>\n",
       "      <th></th>\n",
       "      <th></th>\n",
       "      <th></th>\n",
       "      <th></th>\n",
       "      <th></th>\n",
       "      <th></th>\n",
       "      <th></th>\n",
       "      <th></th>\n",
       "      <th></th>\n",
       "      <th></th>\n",
       "    </tr>\n",
       "  </thead>\n",
       "  <tbody>\n",
       "    <tr>\n",
       "      <th>(8.0, 10.5]</th>\n",
       "      <td>12323.0</td>\n",
       "      <td>0.711759</td>\n",
       "      <td>1.279042</td>\n",
       "      <td>0.0</td>\n",
       "      <td>0.0</td>\n",
       "      <td>0.0</td>\n",
       "      <td>1.0</td>\n",
       "      <td>40.0</td>\n",
       "      <td>12396.0</td>\n",
       "      <td>0.487335</td>\n",
       "      <td>0.737899</td>\n",
       "      <td>0.0</td>\n",
       "      <td>0.0</td>\n",
       "      <td>0.0</td>\n",
       "      <td>1.0</td>\n",
       "      <td>12.0</td>\n",
       "    </tr>\n",
       "    <tr>\n",
       "      <th>(10.5, 13.5]</th>\n",
       "      <td>12825.0</td>\n",
       "      <td>0.452242</td>\n",
       "      <td>1.123426</td>\n",
       "      <td>0.0</td>\n",
       "      <td>0.0</td>\n",
       "      <td>0.0</td>\n",
       "      <td>0.0</td>\n",
       "      <td>41.0</td>\n",
       "      <td>12840.0</td>\n",
       "      <td>0.552570</td>\n",
       "      <td>0.753036</td>\n",
       "      <td>0.0</td>\n",
       "      <td>0.0</td>\n",
       "      <td>0.0</td>\n",
       "      <td>1.0</td>\n",
       "      <td>12.0</td>\n",
       "    </tr>\n",
       "  </tbody>\n",
       "</table>\n",
       "</div>"
      ],
      "text/plain": [
       "             QTDPARTNOR                                                \\\n",
       "                  count      mean       std  min  25%  50%  75%   max   \n",
       "munResLat                                                               \n",
       "(8.0, 10.5]     12323.0  0.711759  1.279042  0.0  0.0  0.0  1.0  40.0   \n",
       "(10.5, 13.5]    12825.0  0.452242  1.123426  0.0  0.0  0.0  0.0  41.0   \n",
       "\n",
       "             QTDPARTCES                                                \n",
       "                  count      mean       std  min  25%  50%  75%   max  \n",
       "munResLat                                                              \n",
       "(8.0, 10.5]     12396.0  0.487335  0.737899  0.0  0.0  0.0  1.0  12.0  \n",
       "(10.5, 13.5]    12840.0  0.552570  0.753036  0.0  0.0  0.0  1.0  12.0  "
      ]
     },
     "execution_count": 39,
     "metadata": {},
     "output_type": "execute_result"
    }
   ],
   "source": [
    "sinasc2.groupby(munResLat)['QTDPARTNOR', 'QTDPARTCES'].describe()\n"
   ]
  },
  {
   "cell_type": "markdown",
   "metadata": {},
   "source": [
    "### 2. Crie 2 faixas da área dos municípios (munResArea) sendo uma acima e outra abaixo de 3000 e aplique o groupby usando essas faixas como chave e realize operações de soma, media, minimo, maximo, mediana, desvio padrao, variancia pra pelo menos 2 variáveis numéricas ainda não utilizadas\n"
   ]
  },
  {
   "cell_type": "code",
   "execution_count": 43,
   "metadata": {},
   "outputs": [
    {
     "data": {
      "text/plain": [
       "array([  459.978,   541.647,   605.692,   798.083,   807.126,   831.857,\n",
       "         843.446,   892.842,   965.676,  1191.875,  1197.796,  1314.352,\n",
       "        1451.06 ,  1457.888,  1703.008,  1717.64 ,  1758.465,  1931.378,\n",
       "        1961.778,  1969.85 ,  2197.413,  2548.683,  2651.822,  2783.3  ,\n",
       "        2944.128,  3029.189,  3060.321,  3135.106,  3265.809,  3442.005,\n",
       "        3773.505,  3792.998,  3863.943,  3958.273,  4081.583,  4426.571,\n",
       "        4518.035,  4987.177,  5067.384,  5126.723,  6014.733,  6240.932,\n",
       "        6843.868,  6896.648,  7067.025,  7460.219,  8509.27 , 10071.643,\n",
       "       10959.767, 11518.915, 24855.724, 34096.394,       nan])"
      ]
     },
     "execution_count": 43,
     "metadata": {},
     "output_type": "execute_result"
    }
   ],
   "source": [
    "sinasc2.munResArea.sort_values().unique()"
   ]
  },
  {
   "cell_type": "code",
   "execution_count": 47,
   "metadata": {},
   "outputs": [
    {
     "data": {
      "text/plain": [
       "0        (3000, 35000]\n",
       "1        (3000, 35000]\n",
       "2        (3000, 35000]\n",
       "3        (3000, 35000]\n",
       "4        (3000, 35000]\n",
       "             ...      \n",
       "27023    (3000, 35000]\n",
       "27024    (3000, 35000]\n",
       "27025    (3000, 35000]\n",
       "27026    (3000, 35000]\n",
       "27027        (0, 3000]\n",
       "Name: munResArea, Length: 27028, dtype: category\n",
       "Categories (2, interval[int64, right]): [(0, 3000] < (3000, 35000]]"
      ]
     },
     "execution_count": 47,
     "metadata": {},
     "output_type": "execute_result"
    }
   ],
   "source": [
    "munResArea =  pd.cut(sinasc2['munResArea'], [0, 3000, 35000])\n",
    "munResArea"
   ]
  },
  {
   "cell_type": "code",
   "execution_count": 52,
   "metadata": {},
   "outputs": [
    {
     "name": "stderr",
     "output_type": "stream",
     "text": [
      "/tmp/ipykernel_35288/807189779.py:1: FutureWarning: Indexing with multiple keys (implicitly converted to a tuple of keys) will be deprecated, use a list instead.\n",
      "  sinasc2.groupby(munResArea)['MESPRENAT', 'CONSPRENAT'].describe()\n"
     ]
    },
    {
     "data": {
      "text/html": [
       "<div>\n",
       "<style scoped>\n",
       "    .dataframe tbody tr th:only-of-type {\n",
       "        vertical-align: middle;\n",
       "    }\n",
       "\n",
       "    .dataframe tbody tr th {\n",
       "        vertical-align: top;\n",
       "    }\n",
       "\n",
       "    .dataframe thead tr th {\n",
       "        text-align: left;\n",
       "    }\n",
       "\n",
       "    .dataframe thead tr:last-of-type th {\n",
       "        text-align: right;\n",
       "    }\n",
       "</style>\n",
       "<table border=\"1\" class=\"dataframe\">\n",
       "  <thead>\n",
       "    <tr>\n",
       "      <th></th>\n",
       "      <th colspan=\"8\" halign=\"left\">MESPRENAT</th>\n",
       "      <th colspan=\"8\" halign=\"left\">CONSPRENAT</th>\n",
       "    </tr>\n",
       "    <tr>\n",
       "      <th></th>\n",
       "      <th>count</th>\n",
       "      <th>mean</th>\n",
       "      <th>std</th>\n",
       "      <th>min</th>\n",
       "      <th>25%</th>\n",
       "      <th>50%</th>\n",
       "      <th>75%</th>\n",
       "      <th>max</th>\n",
       "      <th>count</th>\n",
       "      <th>mean</th>\n",
       "      <th>std</th>\n",
       "      <th>min</th>\n",
       "      <th>25%</th>\n",
       "      <th>50%</th>\n",
       "      <th>75%</th>\n",
       "      <th>max</th>\n",
       "    </tr>\n",
       "    <tr>\n",
       "      <th>munResArea</th>\n",
       "      <th></th>\n",
       "      <th></th>\n",
       "      <th></th>\n",
       "      <th></th>\n",
       "      <th></th>\n",
       "      <th></th>\n",
       "      <th></th>\n",
       "      <th></th>\n",
       "      <th></th>\n",
       "      <th></th>\n",
       "      <th></th>\n",
       "      <th></th>\n",
       "      <th></th>\n",
       "      <th></th>\n",
       "      <th></th>\n",
       "      <th></th>\n",
       "    </tr>\n",
       "  </thead>\n",
       "  <tbody>\n",
       "    <tr>\n",
       "      <th>(0, 3000]</th>\n",
       "      <td>5027.0</td>\n",
       "      <td>3.820569</td>\n",
       "      <td>12.092759</td>\n",
       "      <td>1.0</td>\n",
       "      <td>2.0</td>\n",
       "      <td>2.0</td>\n",
       "      <td>3.0</td>\n",
       "      <td>99.0</td>\n",
       "      <td>5141.0</td>\n",
       "      <td>8.709395</td>\n",
       "      <td>4.290017</td>\n",
       "      <td>0.0</td>\n",
       "      <td>7.0</td>\n",
       "      <td>8.0</td>\n",
       "      <td>10.0</td>\n",
       "      <td>99.0</td>\n",
       "    </tr>\n",
       "    <tr>\n",
       "      <th>(3000, 35000]</th>\n",
       "      <td>19134.0</td>\n",
       "      <td>9.261472</td>\n",
       "      <td>24.587188</td>\n",
       "      <td>1.0</td>\n",
       "      <td>2.0</td>\n",
       "      <td>2.0</td>\n",
       "      <td>3.0</td>\n",
       "      <td>99.0</td>\n",
       "      <td>20956.0</td>\n",
       "      <td>8.143825</td>\n",
       "      <td>5.325530</td>\n",
       "      <td>0.0</td>\n",
       "      <td>6.0</td>\n",
       "      <td>8.0</td>\n",
       "      <td>10.0</td>\n",
       "      <td>99.0</td>\n",
       "    </tr>\n",
       "  </tbody>\n",
       "</table>\n",
       "</div>"
      ],
      "text/plain": [
       "              MESPRENAT                                                 \\\n",
       "                  count      mean        std  min  25%  50%  75%   max   \n",
       "munResArea                                                               \n",
       "(0, 3000]        5027.0  3.820569  12.092759  1.0  2.0  2.0  3.0  99.0   \n",
       "(3000, 35000]   19134.0  9.261472  24.587188  1.0  2.0  2.0  3.0  99.0   \n",
       "\n",
       "              CONSPRENAT                                                 \n",
       "                   count      mean       std  min  25%  50%   75%   max  \n",
       "munResArea                                                               \n",
       "(0, 3000]         5141.0  8.709395  4.290017  0.0  7.0  8.0  10.0  99.0  \n",
       "(3000, 35000]    20956.0  8.143825  5.325530  0.0  6.0  8.0  10.0  99.0  "
      ]
     },
     "execution_count": 52,
     "metadata": {},
     "output_type": "execute_result"
    }
   ],
   "source": [
    "sinasc2.groupby(munResArea)['MESPRENAT', 'CONSPRENAT'].describe()"
   ]
  },
  {
   "cell_type": "code",
   "execution_count": 50,
   "metadata": {},
   "outputs": [
    {
     "data": {
      "text/plain": [
       "Index(['ORIGEM', 'CODESTAB', 'CODMUNNASC', 'LOCNASC', 'IDADEMAE', 'ESTCIVMAE',\n",
       "       'CODOCUPMAE', 'QTDFILVIVO', 'QTDFILMORT', 'CODMUNRES', 'CONSULTAS',\n",
       "       'HORANASC', 'APGAR1', 'APGAR5', 'PESO', 'IDANOMAL', 'NUMEROLOTE',\n",
       "       'DIFDATA', 'DTRECORIGA', 'NATURALMAE', 'CODMUNNATU', 'CODUFNATU',\n",
       "       'ESCMAE2010', 'SERIESCMAE', 'DTNASCMAE', 'RACACORMAE', 'QTDGESTANT',\n",
       "       'QTDPARTNOR', 'QTDPARTCES', 'IDADEPAI', 'DTULTMENST', 'SEMAGESTAC',\n",
       "       'TPMETESTIM', 'CONSPRENAT', 'MESPRENAT', 'TPAPRESENT', 'STTRABPART',\n",
       "       'STCESPARTO', 'TPNASCASSI', 'TPFUNCRESP', 'TPDOCRESP', 'DTDECLARAC',\n",
       "       'ESCMAEAGR1', 'STDNEPIDEM', 'STDNNOVA', 'CODPAISRES', 'TPROBSON',\n",
       "       'PARIDADE', 'KOTELCHUCK', 'CONTADOR', 'munResLat', 'munResLon',\n",
       "       'munResAlt', 'munResArea'],\n",
       "      dtype='object')"
      ]
     },
     "execution_count": 50,
     "metadata": {},
     "output_type": "execute_result"
    }
   ],
   "source": [
    "sinasc2.select_dtypes(exclude='object').columns"
   ]
  },
  {
   "cell_type": "markdown",
   "metadata": {},
   "source": [
    "### 3. Determine faixas na variável munResAlt e aplique o groupby usando essas faixas como chave e realize operações de soma, media, minimo, maximo, mediana, desvio padrao, variancia pra pelo menos 2 variáveis numéricas ainda não utilizadas"
   ]
  },
  {
   "cell_type": "code",
   "execution_count": 53,
   "metadata": {},
   "outputs": [
    {
     "data": {
      "text/plain": [
       "array([ 85.,  87.,  99., 111., 124., 128., 133., 139., 144., 145., 151.,\n",
       "       153., 154., 155., 157., 158., 161., 163., 166., 170., 177., 178.,\n",
       "       182., 186., 191., 192., 197., 202., 206., 212., 215., 227., 230.,\n",
       "       236., 241., 245., 252., 259., 263., 265., 266., 269., 270., 296.,\n",
       "       338., 340., 397., 419., 595.,  nan])"
      ]
     },
     "execution_count": 53,
     "metadata": {},
     "output_type": "execute_result"
    }
   ],
   "source": [
    "sinasc2.munResAlt.sort_values().unique()"
   ]
  },
  {
   "cell_type": "code",
   "execution_count": 60,
   "metadata": {},
   "outputs": [
    {
     "data": {
      "text/plain": [
       "0        (259, 596]\n",
       "1        (259, 596]\n",
       "2        (259, 596]\n",
       "3        (259, 596]\n",
       "4        (259, 596]\n",
       "            ...    \n",
       "27023    (259, 596]\n",
       "27024    (259, 596]\n",
       "27025    (259, 596]\n",
       "27026    (259, 596]\n",
       "27027    (197, 259]\n",
       "Name: munResAlt, Length: 27028, dtype: category\n",
       "Categories (4, interval[int64, right]): [(85, 158] < (158, 197] < (197, 259] < (259, 596]]"
      ]
     },
     "execution_count": 60,
     "metadata": {},
     "output_type": "execute_result"
    }
   ],
   "source": [
    "munResAlt =  pd.cut(sinasc2['munResAlt'], [85, 158, 197, 259, 596])\n",
    "munResAlt"
   ]
  },
  {
   "cell_type": "code",
   "execution_count": 69,
   "metadata": {},
   "outputs": [
    {
     "name": "stderr",
     "output_type": "stream",
     "text": [
      "/tmp/ipykernel_35288/1496012080.py:1: FutureWarning: Indexing with multiple keys (implicitly converted to a tuple of keys) will be deprecated, use a list instead.\n",
      "  sinasc2.groupby(munResAlt)['APGAR1', 'APGAR5'].describe()\n"
     ]
    },
    {
     "data": {
      "text/html": [
       "<div>\n",
       "<style scoped>\n",
       "    .dataframe tbody tr th:only-of-type {\n",
       "        vertical-align: middle;\n",
       "    }\n",
       "\n",
       "    .dataframe tbody tr th {\n",
       "        vertical-align: top;\n",
       "    }\n",
       "\n",
       "    .dataframe thead tr th {\n",
       "        text-align: left;\n",
       "    }\n",
       "\n",
       "    .dataframe thead tr:last-of-type th {\n",
       "        text-align: right;\n",
       "    }\n",
       "</style>\n",
       "<table border=\"1\" class=\"dataframe\">\n",
       "  <thead>\n",
       "    <tr>\n",
       "      <th></th>\n",
       "      <th colspan=\"8\" halign=\"left\">APGAR1</th>\n",
       "      <th colspan=\"8\" halign=\"left\">APGAR5</th>\n",
       "    </tr>\n",
       "    <tr>\n",
       "      <th></th>\n",
       "      <th>count</th>\n",
       "      <th>mean</th>\n",
       "      <th>std</th>\n",
       "      <th>min</th>\n",
       "      <th>25%</th>\n",
       "      <th>50%</th>\n",
       "      <th>75%</th>\n",
       "      <th>max</th>\n",
       "      <th>count</th>\n",
       "      <th>mean</th>\n",
       "      <th>std</th>\n",
       "      <th>min</th>\n",
       "      <th>25%</th>\n",
       "      <th>50%</th>\n",
       "      <th>75%</th>\n",
       "      <th>max</th>\n",
       "    </tr>\n",
       "    <tr>\n",
       "      <th>munResAlt</th>\n",
       "      <th></th>\n",
       "      <th></th>\n",
       "      <th></th>\n",
       "      <th></th>\n",
       "      <th></th>\n",
       "      <th></th>\n",
       "      <th></th>\n",
       "      <th></th>\n",
       "      <th></th>\n",
       "      <th></th>\n",
       "      <th></th>\n",
       "      <th></th>\n",
       "      <th></th>\n",
       "      <th></th>\n",
       "      <th></th>\n",
       "      <th></th>\n",
       "    </tr>\n",
       "  </thead>\n",
       "  <tbody>\n",
       "    <tr>\n",
       "      <th>(85, 158]</th>\n",
       "      <td>15768.0</td>\n",
       "      <td>8.172882</td>\n",
       "      <td>1.017408</td>\n",
       "      <td>0.0</td>\n",
       "      <td>8.0</td>\n",
       "      <td>8.0</td>\n",
       "      <td>9.0</td>\n",
       "      <td>10.0</td>\n",
       "      <td>15764.0</td>\n",
       "      <td>9.211431</td>\n",
       "      <td>0.793390</td>\n",
       "      <td>0.0</td>\n",
       "      <td>9.0</td>\n",
       "      <td>9.0</td>\n",
       "      <td>10.0</td>\n",
       "      <td>10.0</td>\n",
       "    </tr>\n",
       "    <tr>\n",
       "      <th>(158, 197]</th>\n",
       "      <td>4644.0</td>\n",
       "      <td>8.020887</td>\n",
       "      <td>0.887486</td>\n",
       "      <td>0.0</td>\n",
       "      <td>8.0</td>\n",
       "      <td>8.0</td>\n",
       "      <td>8.0</td>\n",
       "      <td>10.0</td>\n",
       "      <td>4643.0</td>\n",
       "      <td>9.140642</td>\n",
       "      <td>0.763103</td>\n",
       "      <td>0.0</td>\n",
       "      <td>9.0</td>\n",
       "      <td>9.0</td>\n",
       "      <td>10.0</td>\n",
       "      <td>10.0</td>\n",
       "    </tr>\n",
       "    <tr>\n",
       "      <th>(197, 259]</th>\n",
       "      <td>2616.0</td>\n",
       "      <td>8.090214</td>\n",
       "      <td>1.044096</td>\n",
       "      <td>0.0</td>\n",
       "      <td>8.0</td>\n",
       "      <td>8.0</td>\n",
       "      <td>9.0</td>\n",
       "      <td>10.0</td>\n",
       "      <td>2615.0</td>\n",
       "      <td>9.144551</td>\n",
       "      <td>0.874566</td>\n",
       "      <td>0.0</td>\n",
       "      <td>9.0</td>\n",
       "      <td>9.0</td>\n",
       "      <td>10.0</td>\n",
       "      <td>10.0</td>\n",
       "    </tr>\n",
       "    <tr>\n",
       "      <th>(259, 596]</th>\n",
       "      <td>3571.0</td>\n",
       "      <td>8.155419</td>\n",
       "      <td>0.909142</td>\n",
       "      <td>0.0</td>\n",
       "      <td>8.0</td>\n",
       "      <td>8.0</td>\n",
       "      <td>9.0</td>\n",
       "      <td>10.0</td>\n",
       "      <td>3570.0</td>\n",
       "      <td>9.103922</td>\n",
       "      <td>0.755376</td>\n",
       "      <td>0.0</td>\n",
       "      <td>9.0</td>\n",
       "      <td>9.0</td>\n",
       "      <td>9.0</td>\n",
       "      <td>10.0</td>\n",
       "    </tr>\n",
       "  </tbody>\n",
       "</table>\n",
       "</div>"
      ],
      "text/plain": [
       "             APGAR1                                                 APGAR5  \\\n",
       "              count      mean       std  min  25%  50%  75%   max    count   \n",
       "munResAlt                                                                    \n",
       "(85, 158]   15768.0  8.172882  1.017408  0.0  8.0  8.0  9.0  10.0  15764.0   \n",
       "(158, 197]   4644.0  8.020887  0.887486  0.0  8.0  8.0  8.0  10.0   4643.0   \n",
       "(197, 259]   2616.0  8.090214  1.044096  0.0  8.0  8.0  9.0  10.0   2615.0   \n",
       "(259, 596]   3571.0  8.155419  0.909142  0.0  8.0  8.0  9.0  10.0   3570.0   \n",
       "\n",
       "                                                           \n",
       "                mean       std  min  25%  50%   75%   max  \n",
       "munResAlt                                                  \n",
       "(85, 158]   9.211431  0.793390  0.0  9.0  9.0  10.0  10.0  \n",
       "(158, 197]  9.140642  0.763103  0.0  9.0  9.0  10.0  10.0  \n",
       "(197, 259]  9.144551  0.874566  0.0  9.0  9.0  10.0  10.0  \n",
       "(259, 596]  9.103922  0.755376  0.0  9.0  9.0   9.0  10.0  "
      ]
     },
     "execution_count": 69,
     "metadata": {},
     "output_type": "execute_result"
    }
   ],
   "source": [
    "sinasc2.groupby(munResAlt)['APGAR1', 'APGAR5'].describe()"
   ]
  },
  {
   "cell_type": "markdown",
   "metadata": {},
   "source": [
    "### 4. Plote no mesmo grafico ao longo do tempo a idade media das mulheres de cada regiao imediatas de rondonia\n",
    "https://pt.wikipedia.org/wiki/Lista_de_regi%C3%B5es_geogr%C3%A1ficas_intermedi%C3%A1rias_e_imediatas_de_Rond%C3%B4nia"
   ]
  },
  {
   "cell_type": "code",
   "execution_count": 72,
   "metadata": {},
   "outputs": [],
   "source": [
    "mapping = {\n",
    "    'Candeias do Jamari': 'Porto Velho',\n",
    "    'Guajará-Mirim': 'Porto Velho',\n",
    "    'Itapuã do Oeste': 'Porto Velho',\n",
    "    'Nova Mamoré': 'Porto Velho',\n",
    "    'Porto Velho': 'Porto Velho',    \n",
    "\n",
    "    'Alto Paraíso': 'Ariquemes',\n",
    "    'Ariquemes': 'Ariquemes',\n",
    "    'Buritis': 'Ariquemes',\n",
    "    'Cacaulândia': 'Ariquemes',\n",
    "    'Campo Novo de Rondônia': 'Ariquemes',\n",
    "    'Cujubim': 'Ariquemes',\n",
    "    'Monte Negro': 'Ariquemes',\n",
    "    'Rio Crespo': 'Ariquemes',\n",
    "    \n",
    "    'Governador Jorge Teixeira':'Jaru',\n",
    "    'Jaru':'Jaru',\n",
    "    'Machadinho d\\'Oeste':'Jaru',\n",
    "    'Theobroma':'Jaru',\n",
    "    'Vale do Anari':'Jaru',\n",
    "    \n",
    "    'Alvorada d\\'Oeste':'Ji-Paraná',\n",
    "    'Costa Marques':'Ji-Paraná',\n",
    "    'Ji-Paraná':'Ji-Paraná',\n",
    "    'Mirante da Serra':'Ji-Paraná',\n",
    "    'Nova União':'Ji-Paraná',\n",
    "    'Ouro Preto do Oeste':'Ji-Paraná',\n",
    "    'Presidente Médici':'Ji-Paraná',\n",
    "    'São Francisco do Guaporé':'Ji-Paraná',\n",
    "    'São Miguel do Guaporé':'Ji-Paraná',\n",
    "    'Seringueiras':'Ji-Paraná',\n",
    "    'Teixeirópolis':'Ji-Paraná',\n",
    "    'Urupá':'Ji-Paraná',\n",
    "    'Vale do Paraíso':'Ji-Paraná',    \n",
    "            \n",
    "    'Alta Floresta d\\'Oeste':'Cacoal',\n",
    "    'Alto Alegre dos Parecis':'Cacoal',\n",
    "    'Cacoal':'Cacoal',\n",
    "    'Castanheiras':'Cacoal',\n",
    "    'Espigão d\\'Oeste':'Cacoal',\n",
    "    'Ministro Andreazza':'Cacoal',\n",
    "    'Nova Brasilândia d\\'Oeste':'Cacoal',\n",
    "    'Novo Horizonte do Oeste':'Cacoal',\n",
    "    'Parecis':'Cacoal',\n",
    "    'Pimenta Bueno':'Cacoal',\n",
    "    'Primavera de Rondônia':'Cacoal',\n",
    "    'Rolim de Moura':'Cacoal',\n",
    "    'Santa Luzia d\\'Oeste':'Cacoal',    \n",
    "    'São Felipe d\\'Oeste':'Cacoal',    \n",
    "\n",
    "    'Cabixi':'Vilhena',\n",
    "    'Cerejeiras':'Vilhena',\n",
    "    'Chupinguaia':'Vilhena',\n",
    "    'Colorado do Oeste':'Vilhena',\n",
    "    'Corumbiara':'Vilhena',\n",
    "    'Pimenteiras do Oeste':'Vilhena',\n",
    "    'Vilhena':'Vilhena'\n",
    "    \n",
    "}\n"
   ]
  },
  {
   "cell_type": "code",
   "execution_count": 80,
   "metadata": {},
   "outputs": [],
   "source": [
    "sinasc_3 = sinasc2.set_index('munResNome')"
   ]
  },
  {
   "cell_type": "code",
   "execution_count": 83,
   "metadata": {},
   "outputs": [
    {
     "data": {
      "text/plain": [
       "<AxesSubplot:xlabel='munResNome'>"
      ]
     },
     "execution_count": 83,
     "metadata": {},
     "output_type": "execute_result"
    },
    {
     "data": {
      "image/png": "[encoded data removed]",
      "text/plain": [
       "<Figure size 640x480 with 1 Axes>"
      ]
     },
     "metadata": {},
     "output_type": "display_data"
    }
   ],
   "source": [
    "sinasc_3.groupby(mapping)['IDADEMAE'].mean().plot()"
   ]
  },
  {
   "cell_type": "markdown",
   "metadata": {},
   "source": [
    "### 5. Utilize a tabela do link abaixo e crie faixas utilizando o mapping e gere agrupamentos utilizando essas faixas como chave\n"
   ]
  },
  {
   "cell_type": "markdown",
   "metadata": {},
   "source": [
    "### 5.1 IDH\n",
    "A - https://pt.wikipedia.org/wiki/Lista_de_munic%C3%ADpios_de_Rond%C3%B4nia_por_IDH-M\n"
   ]
  },
  {
   "cell_type": "code",
   "execution_count": 89,
   "metadata": {},
   "outputs": [],
   "source": [
    "mapping_IDH = {\n",
    "    'Porto Velho':'IDH_Alto',\n",
    "    'Vilhena':'IDH_Alto',\n",
    "    'Cacoal':'IDH_Alto',\n",
    "    'Ji-Paraná':'IDH_Alto',\n",
    "    'Pimenta Bueno':'IDH_Alto',\n",
    "    'Ariquemes':'IDH_Alto',\n",
    "    'Rolim de Moura':'IDH_Alto',\n",
    "    \n",
    "    'Cerejeiras':'IDH_Medio',\n",
    "    'Jaru':'IDH_Medio',\n",
    "    'Colorado do Oeste':'IDH_Medio',\n",
    "    'Ouro Preto do Oeste':'IDH_Medio',\n",
    "    'Espigão d\\'Oeste':'IDH_Medio',\n",
    "    'Santa Luzia d\\'Oeste':'IDH_Medio',\n",
    "    'Pimenteiras do Oeste':'IDH_Medio',\n",
    "    'Presidente Médici':'IDH_Medio',\n",
    "    'Castanheiras':'IDH_Medio',\n",
    "    'Guajará-Mirim':'IDH_Medio',\n",
    "    'Chupinguaia':'IDH_Medio',\n",
    "    'Cabixi':'IDH_Medio',\n",
    "    'Candeias do Jamari':'IDH_Medio',\n",
    "    'São Felipe d\\'Oeste':'IDH_Medio',\n",
    "    'Cacaulândia':'IDH_Medio',\n",
    "    'São Miguel do Guaporé':'IDH_Medio',\n",
    "    'Mirante da Serra':'IDH_Medio',\n",
    "    'Alvorada d\\'Oeste':'IDH_Medio',\n",
    "    'Teixeirópolis':'IDH_Medio',\n",
    "    'Nova Brasilândia d\\'Oeste':'IDH_Medio',\n",
    "    'Rio Crespo':'IDH_Medio',\n",
    "    'Primavera de Rondônia':'IDH_Medio',\n",
    "    'Alta Floresta d\\'Oeste':'IDH_Medio',\n",
    "    'Ministro Andreazza':'IDH_Medio',\n",
    "    'Novo Horizonte do Oeste':'IDH_Medio',\n",
    "    'Vale do Paraíso':'IDH_Medio',\n",
    "    'Alto Paraíso':'IDH_Medio',\n",
    "    'Parecis':'IDH_Medio',\n",
    "    'Buritis':'IDH_Medio',\n",
    "    'Itapuã do Oeste':'IDH_Medio',\n",
    "    'Corumbiara':'IDH_Medio',\n",
    "    'Cujubim':'IDH_Medio',\n",
    "    'Costa Marques':'IDH_Medio',\n",
    "    'São Francisco do Guaporé':'IDH_Medio',\n",
    "    'Urupá':'IDH_Medio',\n",
    "    'Monte Negro':'IDH_Medio',\n",
    "    \n",
    "    'Seringueiras':'IDH_Baixo',\n",
    "    'Governador Jorge Teixeira':'IDH_Baixo',\n",
    "    'Machadinho d\\'Oeste':'IDH_Baixo',\n",
    "    'Campo Novo de Rondônia':'IDH_Baixo',\n",
    "    'Alto Alegre dos Parecis':'IDH_Baixo',\n",
    "    'Theobroma':'IDH_Baixo',\n",
    "    'Nova União':'IDH_Baixo',\n",
    "    'Nova Mamoré':'IDH_Baixo',\n",
    "    'Vale do Anari':'IDH_Baixo',\n",
    "}"
   ]
  },
  {
   "cell_type": "code",
   "execution_count": 96,
   "metadata": {},
   "outputs": [
    {
     "name": "stderr",
     "output_type": "stream",
     "text": [
      "/tmp/ipykernel_35288/204276529.py:1: FutureWarning: Indexing with multiple keys (implicitly converted to a tuple of keys) will be deprecated, use a list instead.\n",
      "  sinasc_3.groupby(mapping_IDH)['APGAR1', 'APGAR5', 'QTDFILVIVO', 'QTDFILMORT'].sum().plot()\n"
     ]
    },
    {
     "data": {
      "text/plain": [
       "<AxesSubplot:xlabel='munResNome'>"
      ]
     },
     "execution_count": 96,
     "metadata": {},
     "output_type": "execute_result"
    },
    {
     "data": {
      "image/png": "[encoded data removed]",
      "text/plain": [
       "<Figure size 640x480 with 1 Axes>"
      ]
     },
     "metadata": {},
     "output_type": "display_data"
    }
   ],
   "source": [
    "sinasc_3.groupby(mapping_IDH)['APGAR1', 'APGAR5', 'QTDFILVIVO', 'QTDFILMORT'].sum().plot()"
   ]
  },
  {
   "cell_type": "markdown",
   "metadata": {},
   "source": [
    "### 5.2 IFDM \n",
    "B - https://pt.wikipedia.org/wiki/Lista_de_munic%C3%ADpios_de_Rond%C3%B4nia_por_IFDM\n"
   ]
  },
  {
   "cell_type": "code",
   "execution_count": 124,
   "metadata": {},
   "outputs": [
    {
     "name": "stderr",
     "output_type": "stream",
     "text": [
      "/tmp/ipykernel_35288/2844808110.py:63: FutureWarning: Indexing with multiple keys (implicitly converted to a tuple of keys) will be deprecated, use a list instead.\n",
      "  sinasc_3.groupby(mapping_IFDM)['APGAR1', 'APGAR5', 'QTDFILVIVO', 'QTDFILMORT'].sum().plot()\n"
     ]
    },
    {
     "data": {
      "text/plain": [
       "<AxesSubplot:xlabel='munResNome'>"
      ]
     },
     "execution_count": 124,
     "metadata": {},
     "output_type": "execute_result"
    },
    {
     "data": {
      "image/png": "[encoded data removed]",
      "text/plain": [
       "<Figure size 640x480 with 1 Axes>"
      ]
     },
     "metadata": {},
     "output_type": "display_data"
    }
   ],
   "source": [
    "mapping_IFDM = {\n",
    "    '':'Desenvolvimento alto',\n",
    "\n",
    "    'Ariquemes':'Desenvolvimento moderado',\n",
    "    'Vilhena':'Desenvolvimento moderado',\n",
    "    'Pimenta Bueno':'Desenvolvimento moderado',\n",
    "    'Porto Velho':'Desenvolvimento moderado',\n",
    "    'Ji-Paraná':'Desenvolvimento moderado',\n",
    "    'Cacoal':'Desenvolvimento moderado',\n",
    "    'Santa Luzia d\\'Oeste':'Desenvolvimento moderado',\n",
    "    'Rolim de Moura':'Desenvolvimento moderado',\n",
    "    'Chupinguaia':'Desenvolvimento moderado',\n",
    "    'São Miguel do Guaporé':'Desenvolvimento moderado',\n",
    "    'Pimenteiras do Oeste':'Desenvolvimento moderado',\n",
    "    'Teixeirópolis':'Desenvolvimento moderado',\n",
    "    'Colorado do Oeste':'Desenvolvimento moderado',\n",
    "    'Jaru':'Desenvolvimento moderado',\n",
    "    'Rio Crespo':'Desenvolvimento moderado',\n",
    "    'Primavera de Rondônia':'Desenvolvimento moderado',\n",
    "    'Alta Floresta d\\'Oeste':'Desenvolvimento moderado',\n",
    "    'Ouro Preto do Oeste':'Desenvolvimento moderado',\n",
    "    'São Francisco do Guaporé':'Desenvolvimento moderado',    \n",
    "    'Candeias do Jamari':'Desenvolvimento moderado',\n",
    "    'Buritis':'Desenvolvimento moderado',    \n",
    "    'São Felipe d\\'Oeste':'Desenvolvimento moderado',\n",
    "    'Presidente Médici':'Desenvolvimento moderado',    \n",
    "    'Cerejeiras':'Desenvolvimento moderado',    \n",
    "    'Monte Negro':'Desenvolvimento moderado',    \n",
    "    'Urupá':'Desenvolvimento moderado',\n",
    "\n",
    "    'Espigão d\\'Oeste':'Desenvolvimento regular',    \n",
    "    'Seringueiras':'Desenvolvimento regular',    \n",
    "    'Alvorada d\\'Oeste':'Desenvolvimento regular',    \n",
    "    'Itapuã do Oeste':'Desenvolvimento regular',    \n",
    "    'Cabixi':'Desenvolvimento regular',    \n",
    "    'Novo Horizonte do Oeste':'Desenvolvimento regular',    \n",
    "    'Nova Brasilândia d\\'Oeste':'Desenvolvimento regular',    \n",
    "    'Vale do Paraíso':'Desenvolvimento regular',    \n",
    "    'Corumbiara':'Desenvolvimento regular',    \n",
    "    'Alto Paraíso':'Desenvolvimento regular',    \n",
    "    'Cacaulândia':'Desenvolvimento regular',    \n",
    "    'Vale do Anari':'Desenvolvimento regular',    \n",
    "    'Ministro Andreazza':'Desenvolvimento regular',    \n",
    "    'Costa Marques':'Desenvolvimento regular',    \n",
    "    'Nova União':'Desenvolvimento regular',    \n",
    "    'Guajará-Mirim':'Desenvolvimento regular',    \n",
    "    'Mirante da Serra':'Desenvolvimento regular',    \n",
    "    'Parecis':'Desenvolvimento regular',    \n",
    "    'Castanheiras':'Desenvolvimento regular',    \n",
    "    'Theobroma':'Desenvolvimento regular',\n",
    "    'Machadinho d\\'Oeste':'Desenvolvimento regular',    \n",
    "    'Campo Novo de Rondônia':'Desenvolvimento regular',    \n",
    "    'Nova Mamoré':'Desenvolvimento regular',    \n",
    "    'Cujubim':'Desenvolvimento regular',    \n",
    "    'Alto Alegre dos Parecis':'Desenvolvimento regular',\n",
    "    'Governador Jorge Teixeira':'Desenvolvimento regular',\n",
    "\n",
    "    '':'Desenvolvimento baixo'\n",
    "\n",
    "    \n",
    "}\n",
    "\n",
    "sinasc_3.groupby(mapping_IFDM)['APGAR1', 'APGAR5', 'QTDFILVIVO', 'QTDFILMORT'].sum().plot()"
   ]
  },
  {
   "cell_type": "markdown",
   "metadata": {},
   "source": [
    "### 5.3 PIB\n",
    "C - https://pt.wikipedia.org/wiki/Lista_de_munic%C3%ADpios_de_Rond%C3%B4nia_por_PIB\n"
   ]
  },
  {
   "cell_type": "code",
   "execution_count": 118,
   "metadata": {},
   "outputs": [],
   "source": [
    "mapping_PIB = {\n",
    "    'Porto Velho':'+1 Bi',\n",
    "    'Ji-Paraná':'+1 Bi',\n",
    "    'Vilhena':'+1 Bi',\n",
    "    'Ariquemes':'+1 Bi',\n",
    "    'Cacoal':'+1 Bi',\n",
    "    'Jaru':'+1 Bi',\n",
    "    'Rolim de Moura':'+1 Bi',\n",
    "    'Pimenta Bueno':'+1 Bi',\n",
    "    'Guajará-Mirim':'+500 Mi',    \n",
    "    'Ouro Preto do Oeste':'+500 Mi',\n",
    "    'Buritis':'+500 Mi',\n",
    "    'Machadinho do Oeste':'+500 Mi',    \n",
    "    'Espigão d\\'Oeste':'+500 Mi',\n",
    "    'São Miguel do Guaporé':'+500 Mi',    \n",
    "    'Candeias do Jamari':'+500 Mi',\n",
    "    'Nova Mamoré':'+500 Mi',    \n",
    "    'Cerejeiras':'+500 Mi',\n",
    "    'Alta Floresta do Oeste':'+300 Mi',    \n",
    "    'Presidente Médici':'+300 Mi',    \n",
    "    'Cujubim':'+300 Mi',    \n",
    "    'Nova Brasilândia do Oeste':'+300 Mi',\n",
    "    'Alto Paraíso':'+300 Mi',    \n",
    "    'São Francisco do Guaporé':'+300 Mi',    \n",
    "    'Colorado do Oeste':'+300 Mi',\n",
    "    'Monte Negro':'+200 Mi',    \n",
    "    'Alto Alegre dos Parecis':'+200 Mi',\n",
    "    'Campo Novo de Rondônia':'+200 Mi',    \n",
    "    'Alvorada do Oeste':'+200 Mi',\n",
    "    'Chupinguaia':'+100 Mi',\n",
    "    'Corumbiara':'+100 Mi',\n",
    "    'Ministro Andreazza':'+100 Mi',\n",
    "    'Urupá':'+100 Mi',    \n",
    "    'Costa Marques':'+100 Mi',\n",
    "    'Seringueiras':'+100 Mi',\n",
    "    'Mirante da Serra':'+100 Mi',\n",
    "    'Governador Jorge Teixeira':'+100 Mi',\n",
    "    'Theobroma':'+100 Mi',\n",
    "    'Santa Luzia do Oeste':'+100 Mi',\n",
    "    'Novo Horizonte do Oeste':'+100 Mi',\n",
    "    'Itapuã do Oeste':'+100 Mi',\n",
    "    'Vale do Paraíso':'+100 Mi',\n",
    "    'Cacaulândia':'+100 Mi',\n",
    "    'Cabixi':'+100 Mi',\n",
    "    'Vale do Anari':'+100 Mi',    \n",
    "    'Nova União':'100 Mi',\n",
    "    'Parecis':'100 Mi',\n",
    "    'Rio Crespo':'100 Mi',\n",
    "    'Pimenteiras do Oeste':'100 Mi',\n",
    "    'Teixeirópolis':'100 Mi',\n",
    "    'São Felipe do Oeste':'100 Mi',\n",
    "    'Castanheiras':'100 Mi',\n",
    "    'Primavera de Rondônia':'100 Mi',\n",
    "}"
   ]
  },
  {
   "cell_type": "code",
   "execution_count": 131,
   "metadata": {},
   "outputs": [
    {
     "name": "stderr",
     "output_type": "stream",
     "text": [
      "/tmp/ipykernel_35288/151615548.py:1: FutureWarning: Indexing with multiple keys (implicitly converted to a tuple of keys) will be deprecated, use a list instead.\n",
      "  sinasc_3.groupby(mapping_PIB)['APGAR1', 'APGAR5', 'QTDFILVIVO', 'QTDFILMORT'].sum().plot()\n"
     ]
    },
    {
     "data": {
      "text/plain": [
       "<AxesSubplot:xlabel='munResNome'>"
      ]
     },
     "execution_count": 131,
     "metadata": {},
     "output_type": "execute_result"
    },
    {
     "data": {
      "image/png": "[encoded data removed]",
      "text/plain": [
       "<Figure size 640x480 with 1 Axes>"
      ]
     },
     "metadata": {},
     "output_type": "display_data"
    }
   ],
   "source": [
    "sinasc_3.groupby(mapping_PIB)['APGAR1', 'APGAR5', 'QTDFILVIVO', 'QTDFILMORT'].sum().plot()"
   ]
  },
  {
   "cell_type": "markdown",
   "metadata": {},
   "source": [
    "### Analise as respostas encontradas, tire algum insight delas, conte pra gente algo encontrado nos dados."
   ]
  },
  {
   "cell_type": "markdown",
   "metadata": {},
   "source": [
    "Exemplo:\n",
    "- Ah, descobri que a idade mediana das mulheres que deram a luz no ano de 2019 dos municipios com o PIB mais alto é a maior dentre todas."
   ]
  },
  {
   "cell_type": "markdown",
   "metadata": {},
   "source": [
    "Os municípios com latitude maior que -10.5 tem uma leve tendência a ter mais partos normais a mesma tendência segue para partos com cesariana.\n",
    "\n",
    "Municípios que tem uma área maior que 3000 tendem a ter mais consultas de pré-natal que área menores.\n",
    "A altitude menor que 158 teve o maior índice de bêbes com APGAR1 e APGAR5.\n",
    "\n",
    "Das regiões imediatas os municípios de Cacoal e Vilhena concentram as mulheres que tem mais idade que tiveram bêbes, Ariquemes teve o menor índice.\n",
    "\n",
    "Municípios com IDH alto concentram os maiores índices de APGAR e os menores índices ficou onde o IDH é baixo.\n",
    "O IFDM dos municípios confirma que onde há desenvolvimento melhor, os níveis de APGAR são melhores em comparação a desenvolvimentos mais baixos.\n",
    "\n",
    "As cidades onde o PIB é maior que 1 bilhão confirma que os níveis de APGAR são muito superiores que as demais regiões.\n"
   ]
  }
 ],
 "metadata": {
  "kernelspec": {
   "display_name": "Python 3 (ipykernel)",
   "language": "python",
   "name": "python3"
  },
  "language_info": {
   "codemirror_mode": {
    "name": "ipython",
    "version": 3
   },
   "file_extension": ".py",
   "mimetype": "text/x-python",
   "name": "python",
   "nbconvert_exporter": "python",
   "pygments_lexer": "ipython3",
   "version": "3.9.13"
  },
  "varInspector": {
   "cols": {
    "lenName": 16,
    "lenType": 16,
    "lenVar": 40
   },
   "kernels_config": {
    "python": {
     "delete_cmd_postfix": "",
     "delete_cmd_prefix": "del ",
     "library": "var_list.py",
     "varRefreshCmd": "print(var_dic_list())"
    },
    "r": {
     "delete_cmd_postfix": ") ",
     "delete_cmd_prefix": "rm(",
     "library": "var_list.r",
     "varRefreshCmd": "cat(var_dic_list()) "
    }
   },
   "types_to_exclude": [
    "module",
    "function",
    "builtin_function_or_method",
    "instance",
    "_Feature"
   ],
   "window_display": false
  }
 },
 "nbformat": 4,
 "nbformat_minor": 4
}
